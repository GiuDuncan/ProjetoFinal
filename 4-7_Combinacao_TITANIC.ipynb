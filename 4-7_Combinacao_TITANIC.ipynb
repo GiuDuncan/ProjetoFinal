{
 "cells": [
  {
   "cell_type": "code",
   "execution_count": 1,
   "metadata": {},
   "outputs": [],
   "source": [
    "import numpy as np\n",
    "import pandas as pd\n",
    "import matplotlib.pyplot as plt\n",
    "import matplotlib as mpl\n",
    "from sklearn import metrics"
   ]
  },
  {
   "cell_type": "markdown",
   "metadata": {},
   "source": [
    "# Base"
   ]
  },
  {
   "cell_type": "code",
   "execution_count": 2,
   "metadata": {},
   "outputs": [],
   "source": [
    "# Importando a base\n",
    "train = pd.read_csv('train_treated.csv')"
   ]
  },
  {
   "cell_type": "markdown",
   "metadata": {},
   "source": [
    "## Dividindo entre treino e teste"
   ]
  },
  {
   "cell_type": "code",
   "execution_count": 3,
   "metadata": {},
   "outputs": [],
   "source": [
    "from sklearn.model_selection import train_test_split\n",
    "x_train, x_test, y_train, y_test = train_test_split(train.drop(columns=['Survived']), train['Survived'], test_size=0.25, random_state=0)"
   ]
  },
  {
   "cell_type": "markdown",
   "metadata": {},
   "source": [
    "# Importando os modelos "
   ]
  },
  {
   "cell_type": "code",
   "execution_count": 4,
   "metadata": {},
   "outputs": [],
   "source": [
    "import pickle\n",
    "filename = 'amostragem_scores'\n",
    "infile = open(filename,'rb')\n",
    "metrics_dict = pickle.load(infile)\n",
    "infile.close()"
   ]
  },
  {
   "cell_type": "code",
   "execution_count": 5,
   "metadata": {},
   "outputs": [
    {
     "data": {
      "text/plain": [
       "dict_keys(['Ada Logistic', 'Bagging SVM', 'Ada Decision Tree', 'Neural'])"
      ]
     },
     "execution_count": 5,
     "metadata": {},
     "output_type": "execute_result"
    }
   ],
   "source": [
    "metrics_dict.keys()"
   ]
  },
  {
   "cell_type": "code",
   "execution_count": 6,
   "metadata": {},
   "outputs": [
    {
     "data": {
      "text/html": [
       "<div>\n",
       "<style scoped>\n",
       "    .dataframe tbody tr th:only-of-type {\n",
       "        vertical-align: middle;\n",
       "    }\n",
       "\n",
       "    .dataframe tbody tr th {\n",
       "        vertical-align: top;\n",
       "    }\n",
       "\n",
       "    .dataframe thead th {\n",
       "        text-align: right;\n",
       "    }\n",
       "</style>\n",
       "<table border=\"1\" class=\"dataframe\">\n",
       "  <thead>\n",
       "    <tr style=\"text-align: right;\">\n",
       "      <th></th>\n",
       "      <th>label</th>\n",
       "      <th>accuracy</th>\n",
       "      <th>recall</th>\n",
       "      <th>precision</th>\n",
       "      <th>F1</th>\n",
       "      <th>predict</th>\n",
       "      <th>classifier</th>\n",
       "    </tr>\n",
       "  </thead>\n",
       "  <tbody>\n",
       "    <tr>\n",
       "      <th>0</th>\n",
       "      <td>Ada Logistic</td>\n",
       "      <td>0.807175</td>\n",
       "      <td>0.753086</td>\n",
       "      <td>0.726190</td>\n",
       "      <td>0.739394</td>\n",
       "      <td>[0, 0, 0, 1, 1, 0, 1, 1, 1, 1, 0, 1, 0, 1, 1, ...</td>\n",
       "      <td>(LogisticRegression(C=1.0, class_weight=None, ...</td>\n",
       "    </tr>\n",
       "    <tr>\n",
       "      <th>1</th>\n",
       "      <td>Bagging SVM</td>\n",
       "      <td>0.735426</td>\n",
       "      <td>0.804878</td>\n",
       "      <td>0.392857</td>\n",
       "      <td>0.528000</td>\n",
       "      <td>[0, 0, 0, 0, 0, 0, 1, 1, 1, 0, 0, 0, 0, 1, 1, ...</td>\n",
       "      <td>(SVC(C=1000, break_ties=False, cache_size=200,...</td>\n",
       "    </tr>\n",
       "    <tr>\n",
       "      <th>2</th>\n",
       "      <td>Ada Decision Tree</td>\n",
       "      <td>0.775785</td>\n",
       "      <td>0.717949</td>\n",
       "      <td>0.666667</td>\n",
       "      <td>0.691358</td>\n",
       "      <td>[1, 0, 1, 1, 1, 0, 1, 1, 1, 1, 0, 1, 0, 1, 1, ...</td>\n",
       "      <td>(DecisionTreeClassifier(ccp_alpha=0.0, class_w...</td>\n",
       "    </tr>\n",
       "    <tr>\n",
       "      <th>3</th>\n",
       "      <td>Neural</td>\n",
       "      <td>0.798206</td>\n",
       "      <td>0.689320</td>\n",
       "      <td>0.845238</td>\n",
       "      <td>0.759358</td>\n",
       "      <td>[0, 0, 0, 1, 1, 1, 1, 1, 1, 1, 0, 1, 0, 1, 1, ...</td>\n",
       "      <td>MLPClassifier(activation='relu', alpha=0.0001,...</td>\n",
       "    </tr>\n",
       "  </tbody>\n",
       "</table>\n",
       "</div>"
      ],
      "text/plain": [
       "               label  accuracy    recall  precision        F1  \\\n",
       "0       Ada Logistic  0.807175  0.753086   0.726190  0.739394   \n",
       "1        Bagging SVM  0.735426  0.804878   0.392857  0.528000   \n",
       "2  Ada Decision Tree  0.775785  0.717949   0.666667  0.691358   \n",
       "3             Neural  0.798206  0.689320   0.845238  0.759358   \n",
       "\n",
       "                                             predict  \\\n",
       "0  [0, 0, 0, 1, 1, 0, 1, 1, 1, 1, 0, 1, 0, 1, 1, ...   \n",
       "1  [0, 0, 0, 0, 0, 0, 1, 1, 1, 0, 0, 0, 0, 1, 1, ...   \n",
       "2  [1, 0, 1, 1, 1, 0, 1, 1, 1, 1, 0, 1, 0, 1, 1, ...   \n",
       "3  [0, 0, 0, 1, 1, 1, 1, 1, 1, 1, 0, 1, 0, 1, 1, ...   \n",
       "\n",
       "                                          classifier  \n",
       "0  (LogisticRegression(C=1.0, class_weight=None, ...  \n",
       "1  (SVC(C=1000, break_ties=False, cache_size=200,...  \n",
       "2  (DecisionTreeClassifier(ccp_alpha=0.0, class_w...  \n",
       "3  MLPClassifier(activation='relu', alpha=0.0001,...  "
      ]
     },
     "execution_count": 6,
     "metadata": {},
     "output_type": "execute_result"
    }
   ],
   "source": [
    "pd.DataFrame(metrics_dict.values())"
   ]
  },
  {
   "cell_type": "code",
   "execution_count": 7,
   "metadata": {},
   "outputs": [],
   "source": [
    "def update_dict(name, predict, classifier, dictionary):\n",
    "    dictionary[name] = {\n",
    "        'label': name, \n",
    "        'accuracy': metrics.accuracy_score(predict, y_test), \n",
    "        'recall': metrics.recall_score(predict, y_test), \n",
    "        'precision': metrics.precision_score(predict, y_test), \n",
    "        'F1': metrics.f1_score(predict, y_test),\n",
    "        'predict': predict,\n",
    "        'classifier': classifier\n",
    "    }\n",
    "    return dictionary\n",
    "    \n",
    "def update_score_dict(name, predict, classifier):\n",
    "    update_dict(name, predict, classifier, metrics_dict)"
   ]
  },
  {
   "cell_type": "markdown",
   "metadata": {},
   "source": [
    "# Teste com votação Maioria Simples/Uniforme "
   ]
  },
  {
   "cell_type": "code",
   "execution_count": 8,
   "metadata": {},
   "outputs": [],
   "source": [
    "ensemble_predict = []\n",
    "for i in range(len(x_test)):\n",
    "    votes = [0, 0]\n",
    "    for metric_key in metrics_dict.keys():\n",
    "        predict = metrics_dict[metric_key]['predict']\n",
    "        index = predict[i] if isinstance(predict[i], int) else int(predict[i].round())\n",
    "        votes[index] += 1\n",
    "    ensemble_predict.append(votes.index(max(votes)))"
   ]
  },
  {
   "cell_type": "code",
   "execution_count": 9,
   "metadata": {},
   "outputs": [
    {
     "data": {
      "text/plain": [
       "0.7802690582959642"
      ]
     },
     "execution_count": 9,
     "metadata": {},
     "output_type": "execute_result"
    }
   ],
   "source": [
    "metrics.accuracy_score(ensemble_predict, y_test)"
   ]
  },
  {
   "cell_type": "code",
   "execution_count": 10,
   "metadata": {},
   "outputs": [
    {
     "data": {
      "text/plain": [
       "0.6711409395973155"
      ]
     },
     "execution_count": 10,
     "metadata": {},
     "output_type": "execute_result"
    }
   ],
   "source": [
    "metrics.f1_score(ensemble_predict, y_test)"
   ]
  },
  {
   "cell_type": "markdown",
   "metadata": {},
   "source": [
    "# Classificador de Voting "
   ]
  },
  {
   "cell_type": "code",
   "execution_count": 11,
   "metadata": {},
   "outputs": [],
   "source": [
    "from sklearn.ensemble import VotingClassifier"
   ]
  },
  {
   "cell_type": "code",
   "execution_count": 12,
   "metadata": {},
   "outputs": [],
   "source": [
    "estimators=[\n",
    "    ('Logistic', metrics_dict['Ada Logistic']['classifier']),\n",
    "    ('SVM', metrics_dict['Bagging SVM']['classifier']), \n",
    "    ('Decision', metrics_dict['Ada Decision Tree']['classifier']), \n",
    "    ('Neural', metrics_dict['Neural']['classifier'])\n",
    "]"
   ]
  },
  {
   "cell_type": "markdown",
   "metadata": {},
   "source": [
    "## Hard"
   ]
  },
  {
   "cell_type": "code",
   "execution_count": 13,
   "metadata": {},
   "outputs": [],
   "source": [
    "voting_hard = VotingClassifier(estimators=estimators, voting='hard')"
   ]
  },
  {
   "cell_type": "code",
   "execution_count": 14,
   "metadata": {},
   "outputs": [],
   "source": [
    "voting_hard.fit(x_train, y_train)\n",
    "voting_predict_hard = voting_hard.predict(x_test)"
   ]
  },
  {
   "cell_type": "code",
   "execution_count": 15,
   "metadata": {},
   "outputs": [
    {
     "data": {
      "text/plain": [
       "0.7802690582959642"
      ]
     },
     "execution_count": 15,
     "metadata": {},
     "output_type": "execute_result"
    }
   ],
   "source": [
    "metrics.accuracy_score(voting_predict_hard, y_test)"
   ]
  },
  {
   "cell_type": "code",
   "execution_count": 16,
   "metadata": {},
   "outputs": [
    {
     "data": {
      "text/plain": [
       "0.6711409395973155"
      ]
     },
     "execution_count": 16,
     "metadata": {},
     "output_type": "execute_result"
    }
   ],
   "source": [
    "metrics.f1_score(voting_predict_hard, y_test)"
   ]
  },
  {
   "cell_type": "markdown",
   "metadata": {},
   "source": [
    "O resultado o Voting classifier com parametro 'hard' é igual ao criado por mim no item acima"
   ]
  },
  {
   "cell_type": "code",
   "execution_count": 17,
   "metadata": {},
   "outputs": [
    {
     "data": {
      "text/html": [
       "<div>\n",
       "<style scoped>\n",
       "    .dataframe tbody tr th:only-of-type {\n",
       "        vertical-align: middle;\n",
       "    }\n",
       "\n",
       "    .dataframe tbody tr th {\n",
       "        vertical-align: top;\n",
       "    }\n",
       "\n",
       "    .dataframe thead th {\n",
       "        text-align: right;\n",
       "    }\n",
       "</style>\n",
       "<table border=\"1\" class=\"dataframe\">\n",
       "  <thead>\n",
       "    <tr style=\"text-align: right;\">\n",
       "      <th></th>\n",
       "      <th>label</th>\n",
       "      <th>accuracy</th>\n",
       "      <th>recall</th>\n",
       "      <th>precision</th>\n",
       "      <th>F1</th>\n",
       "      <th>predict</th>\n",
       "      <th>classifier</th>\n",
       "    </tr>\n",
       "  </thead>\n",
       "  <tbody>\n",
       "    <tr>\n",
       "      <th>0</th>\n",
       "      <td>Ada Logistic</td>\n",
       "      <td>0.807175</td>\n",
       "      <td>0.753086</td>\n",
       "      <td>0.726190</td>\n",
       "      <td>0.739394</td>\n",
       "      <td>[0, 0, 0, 1, 1, 0, 1, 1, 1, 1, 0, 1, 0, 1, 1, ...</td>\n",
       "      <td>(LogisticRegression(C=1.0, class_weight=None, ...</td>\n",
       "    </tr>\n",
       "    <tr>\n",
       "      <th>1</th>\n",
       "      <td>Bagging SVM</td>\n",
       "      <td>0.735426</td>\n",
       "      <td>0.804878</td>\n",
       "      <td>0.392857</td>\n",
       "      <td>0.528000</td>\n",
       "      <td>[0, 0, 0, 0, 0, 0, 1, 1, 1, 0, 0, 0, 0, 1, 1, ...</td>\n",
       "      <td>(SVC(C=1000, break_ties=False, cache_size=200,...</td>\n",
       "    </tr>\n",
       "    <tr>\n",
       "      <th>2</th>\n",
       "      <td>Ada Decision Tree</td>\n",
       "      <td>0.775785</td>\n",
       "      <td>0.717949</td>\n",
       "      <td>0.666667</td>\n",
       "      <td>0.691358</td>\n",
       "      <td>[1, 0, 1, 1, 1, 0, 1, 1, 1, 1, 0, 1, 0, 1, 1, ...</td>\n",
       "      <td>(DecisionTreeClassifier(ccp_alpha=0.0, class_w...</td>\n",
       "    </tr>\n",
       "    <tr>\n",
       "      <th>3</th>\n",
       "      <td>Neural</td>\n",
       "      <td>0.798206</td>\n",
       "      <td>0.689320</td>\n",
       "      <td>0.845238</td>\n",
       "      <td>0.759358</td>\n",
       "      <td>[0, 0, 0, 1, 1, 1, 1, 1, 1, 1, 0, 1, 0, 1, 1, ...</td>\n",
       "      <td>MLPClassifier(activation='relu', alpha=0.0001,...</td>\n",
       "    </tr>\n",
       "    <tr>\n",
       "      <th>4</th>\n",
       "      <td>Votação Simples (hard)</td>\n",
       "      <td>0.780269</td>\n",
       "      <td>0.769231</td>\n",
       "      <td>0.595238</td>\n",
       "      <td>0.671141</td>\n",
       "      <td>[0, 0, 0, 1, 1, 0, 1, 1, 1, 1, 0, 1, 0, 1, 1, ...</td>\n",
       "      <td>VotingClassifier(estimators=[('Logistic',\\n   ...</td>\n",
       "    </tr>\n",
       "  </tbody>\n",
       "</table>\n",
       "</div>"
      ],
      "text/plain": [
       "                    label  accuracy    recall  precision        F1  \\\n",
       "0            Ada Logistic  0.807175  0.753086   0.726190  0.739394   \n",
       "1             Bagging SVM  0.735426  0.804878   0.392857  0.528000   \n",
       "2       Ada Decision Tree  0.775785  0.717949   0.666667  0.691358   \n",
       "3                  Neural  0.798206  0.689320   0.845238  0.759358   \n",
       "4  Votação Simples (hard)  0.780269  0.769231   0.595238  0.671141   \n",
       "\n",
       "                                             predict  \\\n",
       "0  [0, 0, 0, 1, 1, 0, 1, 1, 1, 1, 0, 1, 0, 1, 1, ...   \n",
       "1  [0, 0, 0, 0, 0, 0, 1, 1, 1, 0, 0, 0, 0, 1, 1, ...   \n",
       "2  [1, 0, 1, 1, 1, 0, 1, 1, 1, 1, 0, 1, 0, 1, 1, ...   \n",
       "3  [0, 0, 0, 1, 1, 1, 1, 1, 1, 1, 0, 1, 0, 1, 1, ...   \n",
       "4  [0, 0, 0, 1, 1, 0, 1, 1, 1, 1, 0, 1, 0, 1, 1, ...   \n",
       "\n",
       "                                          classifier  \n",
       "0  (LogisticRegression(C=1.0, class_weight=None, ...  \n",
       "1  (SVC(C=1000, break_ties=False, cache_size=200,...  \n",
       "2  (DecisionTreeClassifier(ccp_alpha=0.0, class_w...  \n",
       "3  MLPClassifier(activation='relu', alpha=0.0001,...  \n",
       "4  VotingClassifier(estimators=[('Logistic',\\n   ...  "
      ]
     },
     "execution_count": 17,
     "metadata": {},
     "output_type": "execute_result"
    }
   ],
   "source": [
    "update_score_dict('Votação Simples (hard)', voting_predict_hard, voting_hard)\n",
    "pd.DataFrame(metrics_dict.values())"
   ]
  },
  {
   "cell_type": "markdown",
   "metadata": {},
   "source": [
    "## Soft"
   ]
  },
  {
   "cell_type": "code",
   "execution_count": 18,
   "metadata": {},
   "outputs": [],
   "source": [
    "voting_soft = VotingClassifier(estimators=estimators, voting='soft')"
   ]
  },
  {
   "cell_type": "code",
   "execution_count": 19,
   "metadata": {},
   "outputs": [],
   "source": [
    "voting_soft.fit(x_train, y_train)\n",
    "voting_predict_soft = voting_soft.predict(x_test)"
   ]
  },
  {
   "cell_type": "code",
   "execution_count": 20,
   "metadata": {},
   "outputs": [
    {
     "data": {
      "text/html": [
       "<div>\n",
       "<style scoped>\n",
       "    .dataframe tbody tr th:only-of-type {\n",
       "        vertical-align: middle;\n",
       "    }\n",
       "\n",
       "    .dataframe tbody tr th {\n",
       "        vertical-align: top;\n",
       "    }\n",
       "\n",
       "    .dataframe thead th {\n",
       "        text-align: right;\n",
       "    }\n",
       "</style>\n",
       "<table border=\"1\" class=\"dataframe\">\n",
       "  <thead>\n",
       "    <tr style=\"text-align: right;\">\n",
       "      <th></th>\n",
       "      <th>label</th>\n",
       "      <th>accuracy</th>\n",
       "      <th>recall</th>\n",
       "      <th>precision</th>\n",
       "      <th>F1</th>\n",
       "      <th>predict</th>\n",
       "      <th>classifier</th>\n",
       "    </tr>\n",
       "  </thead>\n",
       "  <tbody>\n",
       "    <tr>\n",
       "      <th>0</th>\n",
       "      <td>Ada Logistic</td>\n",
       "      <td>0.807175</td>\n",
       "      <td>0.753086</td>\n",
       "      <td>0.726190</td>\n",
       "      <td>0.739394</td>\n",
       "      <td>[0, 0, 0, 1, 1, 0, 1, 1, 1, 1, 0, 1, 0, 1, 1, ...</td>\n",
       "      <td>(LogisticRegression(C=1.0, class_weight=None, ...</td>\n",
       "    </tr>\n",
       "    <tr>\n",
       "      <th>1</th>\n",
       "      <td>Bagging SVM</td>\n",
       "      <td>0.735426</td>\n",
       "      <td>0.804878</td>\n",
       "      <td>0.392857</td>\n",
       "      <td>0.528000</td>\n",
       "      <td>[0, 0, 0, 0, 0, 0, 1, 1, 1, 0, 0, 0, 0, 1, 1, ...</td>\n",
       "      <td>(SVC(C=1000, break_ties=False, cache_size=200,...</td>\n",
       "    </tr>\n",
       "    <tr>\n",
       "      <th>2</th>\n",
       "      <td>Ada Decision Tree</td>\n",
       "      <td>0.775785</td>\n",
       "      <td>0.717949</td>\n",
       "      <td>0.666667</td>\n",
       "      <td>0.691358</td>\n",
       "      <td>[1, 0, 1, 1, 1, 0, 1, 1, 1, 1, 0, 1, 0, 1, 1, ...</td>\n",
       "      <td>(DecisionTreeClassifier(ccp_alpha=0.0, class_w...</td>\n",
       "    </tr>\n",
       "    <tr>\n",
       "      <th>3</th>\n",
       "      <td>Neural</td>\n",
       "      <td>0.798206</td>\n",
       "      <td>0.689320</td>\n",
       "      <td>0.845238</td>\n",
       "      <td>0.759358</td>\n",
       "      <td>[0, 0, 0, 1, 1, 1, 1, 1, 1, 1, 0, 1, 0, 1, 1, ...</td>\n",
       "      <td>MLPClassifier(activation='relu', alpha=0.0001,...</td>\n",
       "    </tr>\n",
       "    <tr>\n",
       "      <th>4</th>\n",
       "      <td>Votação Simples (hard)</td>\n",
       "      <td>0.780269</td>\n",
       "      <td>0.769231</td>\n",
       "      <td>0.595238</td>\n",
       "      <td>0.671141</td>\n",
       "      <td>[0, 0, 0, 1, 1, 0, 1, 1, 1, 1, 0, 1, 0, 1, 1, ...</td>\n",
       "      <td>VotingClassifier(estimators=[('Logistic',\\n   ...</td>\n",
       "    </tr>\n",
       "    <tr>\n",
       "      <th>5</th>\n",
       "      <td>Votação Simples (soft)</td>\n",
       "      <td>0.793722</td>\n",
       "      <td>0.771429</td>\n",
       "      <td>0.642857</td>\n",
       "      <td>0.701299</td>\n",
       "      <td>[0, 0, 0, 1, 1, 0, 1, 1, 1, 1, 0, 1, 0, 1, 1, ...</td>\n",
       "      <td>VotingClassifier(estimators=[('Logistic',\\n   ...</td>\n",
       "    </tr>\n",
       "  </tbody>\n",
       "</table>\n",
       "</div>"
      ],
      "text/plain": [
       "                    label  accuracy    recall  precision        F1  \\\n",
       "0            Ada Logistic  0.807175  0.753086   0.726190  0.739394   \n",
       "1             Bagging SVM  0.735426  0.804878   0.392857  0.528000   \n",
       "2       Ada Decision Tree  0.775785  0.717949   0.666667  0.691358   \n",
       "3                  Neural  0.798206  0.689320   0.845238  0.759358   \n",
       "4  Votação Simples (hard)  0.780269  0.769231   0.595238  0.671141   \n",
       "5  Votação Simples (soft)  0.793722  0.771429   0.642857  0.701299   \n",
       "\n",
       "                                             predict  \\\n",
       "0  [0, 0, 0, 1, 1, 0, 1, 1, 1, 1, 0, 1, 0, 1, 1, ...   \n",
       "1  [0, 0, 0, 0, 0, 0, 1, 1, 1, 0, 0, 0, 0, 1, 1, ...   \n",
       "2  [1, 0, 1, 1, 1, 0, 1, 1, 1, 1, 0, 1, 0, 1, 1, ...   \n",
       "3  [0, 0, 0, 1, 1, 1, 1, 1, 1, 1, 0, 1, 0, 1, 1, ...   \n",
       "4  [0, 0, 0, 1, 1, 0, 1, 1, 1, 1, 0, 1, 0, 1, 1, ...   \n",
       "5  [0, 0, 0, 1, 1, 0, 1, 1, 1, 1, 0, 1, 0, 1, 1, ...   \n",
       "\n",
       "                                          classifier  \n",
       "0  (LogisticRegression(C=1.0, class_weight=None, ...  \n",
       "1  (SVC(C=1000, break_ties=False, cache_size=200,...  \n",
       "2  (DecisionTreeClassifier(ccp_alpha=0.0, class_w...  \n",
       "3  MLPClassifier(activation='relu', alpha=0.0001,...  \n",
       "4  VotingClassifier(estimators=[('Logistic',\\n   ...  \n",
       "5  VotingClassifier(estimators=[('Logistic',\\n   ...  "
      ]
     },
     "execution_count": 20,
     "metadata": {},
     "output_type": "execute_result"
    }
   ],
   "source": [
    "update_score_dict('Votação Simples (soft)', voting_predict_soft, voting_soft)\n",
    "pd.DataFrame(metrics_dict.values())"
   ]
  },
  {
   "cell_type": "markdown",
   "metadata": {},
   "source": [
    "O resultado do classifier com 'soft' foi um pouco melhor"
   ]
  },
  {
   "cell_type": "code",
   "execution_count": 21,
   "metadata": {},
   "outputs": [
    {
     "data": {
      "text/html": [
       "<div>\n",
       "<style scoped>\n",
       "    .dataframe tbody tr th:only-of-type {\n",
       "        vertical-align: middle;\n",
       "    }\n",
       "\n",
       "    .dataframe tbody tr th {\n",
       "        vertical-align: top;\n",
       "    }\n",
       "\n",
       "    .dataframe thead th {\n",
       "        text-align: right;\n",
       "    }\n",
       "</style>\n",
       "<table border=\"1\" class=\"dataframe\">\n",
       "  <thead>\n",
       "    <tr style=\"text-align: right;\">\n",
       "      <th></th>\n",
       "      <th>label</th>\n",
       "      <th>accuracy</th>\n",
       "      <th>recall</th>\n",
       "      <th>precision</th>\n",
       "      <th>F1</th>\n",
       "      <th>predict</th>\n",
       "      <th>classifier</th>\n",
       "    </tr>\n",
       "  </thead>\n",
       "  <tbody>\n",
       "    <tr>\n",
       "      <th>0</th>\n",
       "      <td>Bagging SVM</td>\n",
       "      <td>0.735426</td>\n",
       "      <td>0.804878</td>\n",
       "      <td>0.392857</td>\n",
       "      <td>0.528000</td>\n",
       "      <td>[0, 0, 0, 0, 0, 0, 1, 1, 1, 0, 0, 0, 0, 1, 1, ...</td>\n",
       "      <td>(SVC(C=1000, break_ties=False, cache_size=200,...</td>\n",
       "    </tr>\n",
       "    <tr>\n",
       "      <th>1</th>\n",
       "      <td>Votação Simples (hard)</td>\n",
       "      <td>0.780269</td>\n",
       "      <td>0.769231</td>\n",
       "      <td>0.595238</td>\n",
       "      <td>0.671141</td>\n",
       "      <td>[0, 0, 0, 1, 1, 0, 1, 1, 1, 1, 0, 1, 0, 1, 1, ...</td>\n",
       "      <td>VotingClassifier(estimators=[('Logistic',\\n   ...</td>\n",
       "    </tr>\n",
       "    <tr>\n",
       "      <th>2</th>\n",
       "      <td>Ada Decision Tree</td>\n",
       "      <td>0.775785</td>\n",
       "      <td>0.717949</td>\n",
       "      <td>0.666667</td>\n",
       "      <td>0.691358</td>\n",
       "      <td>[1, 0, 1, 1, 1, 0, 1, 1, 1, 1, 0, 1, 0, 1, 1, ...</td>\n",
       "      <td>(DecisionTreeClassifier(ccp_alpha=0.0, class_w...</td>\n",
       "    </tr>\n",
       "    <tr>\n",
       "      <th>3</th>\n",
       "      <td>Votação Simples (soft)</td>\n",
       "      <td>0.793722</td>\n",
       "      <td>0.771429</td>\n",
       "      <td>0.642857</td>\n",
       "      <td>0.701299</td>\n",
       "      <td>[0, 0, 0, 1, 1, 0, 1, 1, 1, 1, 0, 1, 0, 1, 1, ...</td>\n",
       "      <td>VotingClassifier(estimators=[('Logistic',\\n   ...</td>\n",
       "    </tr>\n",
       "    <tr>\n",
       "      <th>4</th>\n",
       "      <td>Ada Logistic</td>\n",
       "      <td>0.807175</td>\n",
       "      <td>0.753086</td>\n",
       "      <td>0.726190</td>\n",
       "      <td>0.739394</td>\n",
       "      <td>[0, 0, 0, 1, 1, 0, 1, 1, 1, 1, 0, 1, 0, 1, 1, ...</td>\n",
       "      <td>(LogisticRegression(C=1.0, class_weight=None, ...</td>\n",
       "    </tr>\n",
       "    <tr>\n",
       "      <th>5</th>\n",
       "      <td>Neural</td>\n",
       "      <td>0.798206</td>\n",
       "      <td>0.689320</td>\n",
       "      <td>0.845238</td>\n",
       "      <td>0.759358</td>\n",
       "      <td>[0, 0, 0, 1, 1, 1, 1, 1, 1, 1, 0, 1, 0, 1, 1, ...</td>\n",
       "      <td>MLPClassifier(activation='relu', alpha=0.0001,...</td>\n",
       "    </tr>\n",
       "  </tbody>\n",
       "</table>\n",
       "</div>"
      ],
      "text/plain": [
       "                    label  accuracy    recall  precision        F1  \\\n",
       "0             Bagging SVM  0.735426  0.804878   0.392857  0.528000   \n",
       "1  Votação Simples (hard)  0.780269  0.769231   0.595238  0.671141   \n",
       "2       Ada Decision Tree  0.775785  0.717949   0.666667  0.691358   \n",
       "3  Votação Simples (soft)  0.793722  0.771429   0.642857  0.701299   \n",
       "4            Ada Logistic  0.807175  0.753086   0.726190  0.739394   \n",
       "5                  Neural  0.798206  0.689320   0.845238  0.759358   \n",
       "\n",
       "                                             predict  \\\n",
       "0  [0, 0, 0, 0, 0, 0, 1, 1, 1, 0, 0, 0, 0, 1, 1, ...   \n",
       "1  [0, 0, 0, 1, 1, 0, 1, 1, 1, 1, 0, 1, 0, 1, 1, ...   \n",
       "2  [1, 0, 1, 1, 1, 0, 1, 1, 1, 1, 0, 1, 0, 1, 1, ...   \n",
       "3  [0, 0, 0, 1, 1, 0, 1, 1, 1, 1, 0, 1, 0, 1, 1, ...   \n",
       "4  [0, 0, 0, 1, 1, 0, 1, 1, 1, 1, 0, 1, 0, 1, 1, ...   \n",
       "5  [0, 0, 0, 1, 1, 1, 1, 1, 1, 1, 0, 1, 0, 1, 1, ...   \n",
       "\n",
       "                                          classifier  \n",
       "0  (SVC(C=1000, break_ties=False, cache_size=200,...  \n",
       "1  VotingClassifier(estimators=[('Logistic',\\n   ...  \n",
       "2  (DecisionTreeClassifier(ccp_alpha=0.0, class_w...  \n",
       "3  VotingClassifier(estimators=[('Logistic',\\n   ...  \n",
       "4  (LogisticRegression(C=1.0, class_weight=None, ...  \n",
       "5  MLPClassifier(activation='relu', alpha=0.0001,...  "
      ]
     },
     "execution_count": 21,
     "metadata": {},
     "output_type": "execute_result"
    }
   ],
   "source": [
    "# Ordered by F1\n",
    "f1_list = sorted(list(metrics_dict.values()), key=lambda k: k['F1']) \n",
    "f1_ordered = pd.DataFrame(f1_list)\n",
    "f1_ordered"
   ]
  },
  {
   "cell_type": "code",
   "execution_count": 22,
   "metadata": {},
   "outputs": [
    {
     "data": {
      "text/html": [
       "<div>\n",
       "<style scoped>\n",
       "    .dataframe tbody tr th:only-of-type {\n",
       "        vertical-align: middle;\n",
       "    }\n",
       "\n",
       "    .dataframe tbody tr th {\n",
       "        vertical-align: top;\n",
       "    }\n",
       "\n",
       "    .dataframe thead th {\n",
       "        text-align: right;\n",
       "    }\n",
       "</style>\n",
       "<table border=\"1\" class=\"dataframe\">\n",
       "  <thead>\n",
       "    <tr style=\"text-align: right;\">\n",
       "      <th></th>\n",
       "      <th>label</th>\n",
       "      <th>accuracy</th>\n",
       "      <th>recall</th>\n",
       "      <th>precision</th>\n",
       "      <th>F1</th>\n",
       "      <th>predict</th>\n",
       "      <th>classifier</th>\n",
       "    </tr>\n",
       "  </thead>\n",
       "  <tbody>\n",
       "    <tr>\n",
       "      <th>0</th>\n",
       "      <td>Bagging SVM</td>\n",
       "      <td>0.735426</td>\n",
       "      <td>0.804878</td>\n",
       "      <td>0.392857</td>\n",
       "      <td>0.528000</td>\n",
       "      <td>[0, 0, 0, 0, 0, 0, 1, 1, 1, 0, 0, 0, 0, 1, 1, ...</td>\n",
       "      <td>(SVC(C=1000, break_ties=False, cache_size=200,...</td>\n",
       "    </tr>\n",
       "    <tr>\n",
       "      <th>1</th>\n",
       "      <td>Ada Decision Tree</td>\n",
       "      <td>0.775785</td>\n",
       "      <td>0.717949</td>\n",
       "      <td>0.666667</td>\n",
       "      <td>0.691358</td>\n",
       "      <td>[1, 0, 1, 1, 1, 0, 1, 1, 1, 1, 0, 1, 0, 1, 1, ...</td>\n",
       "      <td>(DecisionTreeClassifier(ccp_alpha=0.0, class_w...</td>\n",
       "    </tr>\n",
       "    <tr>\n",
       "      <th>2</th>\n",
       "      <td>Votação Simples (hard)</td>\n",
       "      <td>0.780269</td>\n",
       "      <td>0.769231</td>\n",
       "      <td>0.595238</td>\n",
       "      <td>0.671141</td>\n",
       "      <td>[0, 0, 0, 1, 1, 0, 1, 1, 1, 1, 0, 1, 0, 1, 1, ...</td>\n",
       "      <td>VotingClassifier(estimators=[('Logistic',\\n   ...</td>\n",
       "    </tr>\n",
       "    <tr>\n",
       "      <th>3</th>\n",
       "      <td>Votação Simples (soft)</td>\n",
       "      <td>0.793722</td>\n",
       "      <td>0.771429</td>\n",
       "      <td>0.642857</td>\n",
       "      <td>0.701299</td>\n",
       "      <td>[0, 0, 0, 1, 1, 0, 1, 1, 1, 1, 0, 1, 0, 1, 1, ...</td>\n",
       "      <td>VotingClassifier(estimators=[('Logistic',\\n   ...</td>\n",
       "    </tr>\n",
       "    <tr>\n",
       "      <th>4</th>\n",
       "      <td>Neural</td>\n",
       "      <td>0.798206</td>\n",
       "      <td>0.689320</td>\n",
       "      <td>0.845238</td>\n",
       "      <td>0.759358</td>\n",
       "      <td>[0, 0, 0, 1, 1, 1, 1, 1, 1, 1, 0, 1, 0, 1, 1, ...</td>\n",
       "      <td>MLPClassifier(activation='relu', alpha=0.0001,...</td>\n",
       "    </tr>\n",
       "    <tr>\n",
       "      <th>5</th>\n",
       "      <td>Ada Logistic</td>\n",
       "      <td>0.807175</td>\n",
       "      <td>0.753086</td>\n",
       "      <td>0.726190</td>\n",
       "      <td>0.739394</td>\n",
       "      <td>[0, 0, 0, 1, 1, 0, 1, 1, 1, 1, 0, 1, 0, 1, 1, ...</td>\n",
       "      <td>(LogisticRegression(C=1.0, class_weight=None, ...</td>\n",
       "    </tr>\n",
       "  </tbody>\n",
       "</table>\n",
       "</div>"
      ],
      "text/plain": [
       "                    label  accuracy    recall  precision        F1  \\\n",
       "0             Bagging SVM  0.735426  0.804878   0.392857  0.528000   \n",
       "1       Ada Decision Tree  0.775785  0.717949   0.666667  0.691358   \n",
       "2  Votação Simples (hard)  0.780269  0.769231   0.595238  0.671141   \n",
       "3  Votação Simples (soft)  0.793722  0.771429   0.642857  0.701299   \n",
       "4                  Neural  0.798206  0.689320   0.845238  0.759358   \n",
       "5            Ada Logistic  0.807175  0.753086   0.726190  0.739394   \n",
       "\n",
       "                                             predict  \\\n",
       "0  [0, 0, 0, 0, 0, 0, 1, 1, 1, 0, 0, 0, 0, 1, 1, ...   \n",
       "1  [1, 0, 1, 1, 1, 0, 1, 1, 1, 1, 0, 1, 0, 1, 1, ...   \n",
       "2  [0, 0, 0, 1, 1, 0, 1, 1, 1, 1, 0, 1, 0, 1, 1, ...   \n",
       "3  [0, 0, 0, 1, 1, 0, 1, 1, 1, 1, 0, 1, 0, 1, 1, ...   \n",
       "4  [0, 0, 0, 1, 1, 1, 1, 1, 1, 1, 0, 1, 0, 1, 1, ...   \n",
       "5  [0, 0, 0, 1, 1, 0, 1, 1, 1, 1, 0, 1, 0, 1, 1, ...   \n",
       "\n",
       "                                          classifier  \n",
       "0  (SVC(C=1000, break_ties=False, cache_size=200,...  \n",
       "1  (DecisionTreeClassifier(ccp_alpha=0.0, class_w...  \n",
       "2  VotingClassifier(estimators=[('Logistic',\\n   ...  \n",
       "3  VotingClassifier(estimators=[('Logistic',\\n   ...  \n",
       "4  MLPClassifier(activation='relu', alpha=0.0001,...  \n",
       "5  (LogisticRegression(C=1.0, class_weight=None, ...  "
      ]
     },
     "execution_count": 22,
     "metadata": {},
     "output_type": "execute_result"
    }
   ],
   "source": [
    "# Ordered by Accuracy\n",
    "accuracy_list = sorted(list(metrics_dict.values()), key=lambda k: k['accuracy']) \n",
    "accuracy_ordered = pd.DataFrame(accuracy_list)\n",
    "accuracy_ordered"
   ]
  },
  {
   "cell_type": "markdown",
   "metadata": {},
   "source": [
    "Mas ainda não melhor dentre todos os classificadores"
   ]
  },
  {
   "cell_type": "markdown",
   "metadata": {},
   "source": [
    "# Votação com pesos (naive)"
   ]
  },
  {
   "cell_type": "code",
   "execution_count": 23,
   "metadata": {},
   "outputs": [],
   "source": [
    "# colocando pesos maiores nos melhores classificadores baseados no F1\n",
    "voting_weighted_naive = VotingClassifier(estimators=estimators, weights=[1.5, 0.5, 1, 2], voting='hard')"
   ]
  },
  {
   "cell_type": "code",
   "execution_count": 24,
   "metadata": {},
   "outputs": [],
   "source": [
    "voting_weighted_naive.fit(x_train, y_train)\n",
    "voting_weighted_naive_predict = voting_weighted_naive.predict(x_test)"
   ]
  },
  {
   "cell_type": "code",
   "execution_count": 25,
   "metadata": {
    "scrolled": true
   },
   "outputs": [
    {
     "data": {
      "text/html": [
       "<div>\n",
       "<style scoped>\n",
       "    .dataframe tbody tr th:only-of-type {\n",
       "        vertical-align: middle;\n",
       "    }\n",
       "\n",
       "    .dataframe tbody tr th {\n",
       "        vertical-align: top;\n",
       "    }\n",
       "\n",
       "    .dataframe thead th {\n",
       "        text-align: right;\n",
       "    }\n",
       "</style>\n",
       "<table border=\"1\" class=\"dataframe\">\n",
       "  <thead>\n",
       "    <tr style=\"text-align: right;\">\n",
       "      <th></th>\n",
       "      <th>label</th>\n",
       "      <th>accuracy</th>\n",
       "      <th>recall</th>\n",
       "      <th>precision</th>\n",
       "      <th>F1</th>\n",
       "      <th>predict</th>\n",
       "      <th>classifier</th>\n",
       "    </tr>\n",
       "  </thead>\n",
       "  <tbody>\n",
       "    <tr>\n",
       "      <th>0</th>\n",
       "      <td>Ada Logistic</td>\n",
       "      <td>0.807175</td>\n",
       "      <td>0.753086</td>\n",
       "      <td>0.726190</td>\n",
       "      <td>0.739394</td>\n",
       "      <td>[0, 0, 0, 1, 1, 0, 1, 1, 1, 1, 0, 1, 0, 1, 1, ...</td>\n",
       "      <td>(LogisticRegression(C=1.0, class_weight=None, ...</td>\n",
       "    </tr>\n",
       "    <tr>\n",
       "      <th>1</th>\n",
       "      <td>Bagging SVM</td>\n",
       "      <td>0.735426</td>\n",
       "      <td>0.804878</td>\n",
       "      <td>0.392857</td>\n",
       "      <td>0.528000</td>\n",
       "      <td>[0, 0, 0, 0, 0, 0, 1, 1, 1, 0, 0, 0, 0, 1, 1, ...</td>\n",
       "      <td>(SVC(C=1000, break_ties=False, cache_size=200,...</td>\n",
       "    </tr>\n",
       "    <tr>\n",
       "      <th>2</th>\n",
       "      <td>Ada Decision Tree</td>\n",
       "      <td>0.775785</td>\n",
       "      <td>0.717949</td>\n",
       "      <td>0.666667</td>\n",
       "      <td>0.691358</td>\n",
       "      <td>[1, 0, 1, 1, 1, 0, 1, 1, 1, 1, 0, 1, 0, 1, 1, ...</td>\n",
       "      <td>(DecisionTreeClassifier(ccp_alpha=0.0, class_w...</td>\n",
       "    </tr>\n",
       "    <tr>\n",
       "      <th>3</th>\n",
       "      <td>Neural</td>\n",
       "      <td>0.798206</td>\n",
       "      <td>0.689320</td>\n",
       "      <td>0.845238</td>\n",
       "      <td>0.759358</td>\n",
       "      <td>[0, 0, 0, 1, 1, 1, 1, 1, 1, 1, 0, 1, 0, 1, 1, ...</td>\n",
       "      <td>MLPClassifier(activation='relu', alpha=0.0001,...</td>\n",
       "    </tr>\n",
       "    <tr>\n",
       "      <th>4</th>\n",
       "      <td>Votação Simples (hard)</td>\n",
       "      <td>0.780269</td>\n",
       "      <td>0.769231</td>\n",
       "      <td>0.595238</td>\n",
       "      <td>0.671141</td>\n",
       "      <td>[0, 0, 0, 1, 1, 0, 1, 1, 1, 1, 0, 1, 0, 1, 1, ...</td>\n",
       "      <td>VotingClassifier(estimators=[('Logistic',\\n   ...</td>\n",
       "    </tr>\n",
       "    <tr>\n",
       "      <th>5</th>\n",
       "      <td>Votação Simples (soft)</td>\n",
       "      <td>0.793722</td>\n",
       "      <td>0.771429</td>\n",
       "      <td>0.642857</td>\n",
       "      <td>0.701299</td>\n",
       "      <td>[0, 0, 0, 1, 1, 0, 1, 1, 1, 1, 0, 1, 0, 1, 1, ...</td>\n",
       "      <td>VotingClassifier(estimators=[('Logistic',\\n   ...</td>\n",
       "    </tr>\n",
       "    <tr>\n",
       "      <th>6</th>\n",
       "      <td>Votação com pesos naive (hard)</td>\n",
       "      <td>0.811659</td>\n",
       "      <td>0.744186</td>\n",
       "      <td>0.761905</td>\n",
       "      <td>0.752941</td>\n",
       "      <td>[0, 0, 0, 1, 1, 0, 1, 1, 1, 1, 0, 1, 0, 1, 1, ...</td>\n",
       "      <td>VotingClassifier(estimators=[('Logistic',\\n   ...</td>\n",
       "    </tr>\n",
       "  </tbody>\n",
       "</table>\n",
       "</div>"
      ],
      "text/plain": [
       "                            label  accuracy    recall  precision        F1  \\\n",
       "0                    Ada Logistic  0.807175  0.753086   0.726190  0.739394   \n",
       "1                     Bagging SVM  0.735426  0.804878   0.392857  0.528000   \n",
       "2               Ada Decision Tree  0.775785  0.717949   0.666667  0.691358   \n",
       "3                          Neural  0.798206  0.689320   0.845238  0.759358   \n",
       "4          Votação Simples (hard)  0.780269  0.769231   0.595238  0.671141   \n",
       "5          Votação Simples (soft)  0.793722  0.771429   0.642857  0.701299   \n",
       "6  Votação com pesos naive (hard)  0.811659  0.744186   0.761905  0.752941   \n",
       "\n",
       "                                             predict  \\\n",
       "0  [0, 0, 0, 1, 1, 0, 1, 1, 1, 1, 0, 1, 0, 1, 1, ...   \n",
       "1  [0, 0, 0, 0, 0, 0, 1, 1, 1, 0, 0, 0, 0, 1, 1, ...   \n",
       "2  [1, 0, 1, 1, 1, 0, 1, 1, 1, 1, 0, 1, 0, 1, 1, ...   \n",
       "3  [0, 0, 0, 1, 1, 1, 1, 1, 1, 1, 0, 1, 0, 1, 1, ...   \n",
       "4  [0, 0, 0, 1, 1, 0, 1, 1, 1, 1, 0, 1, 0, 1, 1, ...   \n",
       "5  [0, 0, 0, 1, 1, 0, 1, 1, 1, 1, 0, 1, 0, 1, 1, ...   \n",
       "6  [0, 0, 0, 1, 1, 0, 1, 1, 1, 1, 0, 1, 0, 1, 1, ...   \n",
       "\n",
       "                                          classifier  \n",
       "0  (LogisticRegression(C=1.0, class_weight=None, ...  \n",
       "1  (SVC(C=1000, break_ties=False, cache_size=200,...  \n",
       "2  (DecisionTreeClassifier(ccp_alpha=0.0, class_w...  \n",
       "3  MLPClassifier(activation='relu', alpha=0.0001,...  \n",
       "4  VotingClassifier(estimators=[('Logistic',\\n   ...  \n",
       "5  VotingClassifier(estimators=[('Logistic',\\n   ...  \n",
       "6  VotingClassifier(estimators=[('Logistic',\\n   ...  "
      ]
     },
     "execution_count": 25,
     "metadata": {},
     "output_type": "execute_result"
    }
   ],
   "source": [
    "update_score_dict('Votação com pesos naive (hard)', voting_weighted_naive_predict, voting_weighted_naive)\n",
    "pd.DataFrame(metrics_dict.values())"
   ]
  },
  {
   "cell_type": "markdown",
   "metadata": {},
   "source": [
    "# Votação com pesos (normalized)"
   ]
  },
  {
   "cell_type": "code",
   "execution_count": 26,
   "metadata": {},
   "outputs": [],
   "source": [
    "data = [\n",
    "    metrics_dict['Ada Logistic']['F1'],\n",
    "    metrics_dict['Bagging SVM']['F1'], \n",
    "    metrics_dict['Ada Decision Tree']['F1'], \n",
    "    metrics_dict['Neural']['F1']\n",
    "]\n",
    "data = np.expand_dims(data, 1)"
   ]
  },
  {
   "cell_type": "code",
   "execution_count": 27,
   "metadata": {},
   "outputs": [],
   "source": [
    "from sklearn.preprocessing import MinMaxScaler\n",
    "scaler = MinMaxScaler()\n",
    "scaler.fit(data)    \n",
    "ret = scaler.transform(data)\n",
    "ret = np.squeeze(ret)"
   ]
  },
  {
   "cell_type": "code",
   "execution_count": 28,
   "metadata": {},
   "outputs": [],
   "source": [
    "ret += 1"
   ]
  },
  {
   "cell_type": "code",
   "execution_count": 29,
   "metadata": {},
   "outputs": [],
   "source": [
    "# colocando pesos maiores nos melhores classificadores baseados no F1 (com normalizacao)\n",
    "voting_weighted_normalized = VotingClassifier(estimators=estimators, weights=ret, voting='hard')"
   ]
  },
  {
   "cell_type": "code",
   "execution_count": 30,
   "metadata": {},
   "outputs": [],
   "source": [
    "voting_weighted_normalized.fit(x_train, y_train)\n",
    "voting_weighted_normalized_predict = voting_weighted_normalized.predict(x_test)"
   ]
  },
  {
   "cell_type": "code",
   "execution_count": 31,
   "metadata": {
    "scrolled": true
   },
   "outputs": [
    {
     "data": {
      "text/html": [
       "<div>\n",
       "<style scoped>\n",
       "    .dataframe tbody tr th:only-of-type {\n",
       "        vertical-align: middle;\n",
       "    }\n",
       "\n",
       "    .dataframe tbody tr th {\n",
       "        vertical-align: top;\n",
       "    }\n",
       "\n",
       "    .dataframe thead th {\n",
       "        text-align: right;\n",
       "    }\n",
       "</style>\n",
       "<table border=\"1\" class=\"dataframe\">\n",
       "  <thead>\n",
       "    <tr style=\"text-align: right;\">\n",
       "      <th></th>\n",
       "      <th>label</th>\n",
       "      <th>accuracy</th>\n",
       "      <th>recall</th>\n",
       "      <th>precision</th>\n",
       "      <th>F1</th>\n",
       "      <th>predict</th>\n",
       "      <th>classifier</th>\n",
       "    </tr>\n",
       "  </thead>\n",
       "  <tbody>\n",
       "    <tr>\n",
       "      <th>0</th>\n",
       "      <td>Ada Logistic</td>\n",
       "      <td>0.807175</td>\n",
       "      <td>0.753086</td>\n",
       "      <td>0.726190</td>\n",
       "      <td>0.739394</td>\n",
       "      <td>[0, 0, 0, 1, 1, 0, 1, 1, 1, 1, 0, 1, 0, 1, 1, ...</td>\n",
       "      <td>(LogisticRegression(C=1.0, class_weight=None, ...</td>\n",
       "    </tr>\n",
       "    <tr>\n",
       "      <th>1</th>\n",
       "      <td>Bagging SVM</td>\n",
       "      <td>0.735426</td>\n",
       "      <td>0.804878</td>\n",
       "      <td>0.392857</td>\n",
       "      <td>0.528000</td>\n",
       "      <td>[0, 0, 0, 0, 0, 0, 1, 1, 1, 0, 0, 0, 0, 1, 1, ...</td>\n",
       "      <td>(SVC(C=1000, break_ties=False, cache_size=200,...</td>\n",
       "    </tr>\n",
       "    <tr>\n",
       "      <th>2</th>\n",
       "      <td>Ada Decision Tree</td>\n",
       "      <td>0.775785</td>\n",
       "      <td>0.717949</td>\n",
       "      <td>0.666667</td>\n",
       "      <td>0.691358</td>\n",
       "      <td>[1, 0, 1, 1, 1, 0, 1, 1, 1, 1, 0, 1, 0, 1, 1, ...</td>\n",
       "      <td>(DecisionTreeClassifier(ccp_alpha=0.0, class_w...</td>\n",
       "    </tr>\n",
       "    <tr>\n",
       "      <th>3</th>\n",
       "      <td>Neural</td>\n",
       "      <td>0.798206</td>\n",
       "      <td>0.689320</td>\n",
       "      <td>0.845238</td>\n",
       "      <td>0.759358</td>\n",
       "      <td>[0, 0, 0, 1, 1, 1, 1, 1, 1, 1, 0, 1, 0, 1, 1, ...</td>\n",
       "      <td>MLPClassifier(activation='relu', alpha=0.0001,...</td>\n",
       "    </tr>\n",
       "    <tr>\n",
       "      <th>4</th>\n",
       "      <td>Votação Simples (hard)</td>\n",
       "      <td>0.780269</td>\n",
       "      <td>0.769231</td>\n",
       "      <td>0.595238</td>\n",
       "      <td>0.671141</td>\n",
       "      <td>[0, 0, 0, 1, 1, 0, 1, 1, 1, 1, 0, 1, 0, 1, 1, ...</td>\n",
       "      <td>VotingClassifier(estimators=[('Logistic',\\n   ...</td>\n",
       "    </tr>\n",
       "    <tr>\n",
       "      <th>5</th>\n",
       "      <td>Votação Simples (soft)</td>\n",
       "      <td>0.793722</td>\n",
       "      <td>0.771429</td>\n",
       "      <td>0.642857</td>\n",
       "      <td>0.701299</td>\n",
       "      <td>[0, 0, 0, 1, 1, 0, 1, 1, 1, 1, 0, 1, 0, 1, 1, ...</td>\n",
       "      <td>VotingClassifier(estimators=[('Logistic',\\n   ...</td>\n",
       "    </tr>\n",
       "    <tr>\n",
       "      <th>6</th>\n",
       "      <td>Votação com pesos naive (hard)</td>\n",
       "      <td>0.811659</td>\n",
       "      <td>0.744186</td>\n",
       "      <td>0.761905</td>\n",
       "      <td>0.752941</td>\n",
       "      <td>[0, 0, 0, 1, 1, 0, 1, 1, 1, 1, 0, 1, 0, 1, 1, ...</td>\n",
       "      <td>VotingClassifier(estimators=[('Logistic',\\n   ...</td>\n",
       "    </tr>\n",
       "    <tr>\n",
       "      <th>7</th>\n",
       "      <td>Votação com pesos normalizado (hard)</td>\n",
       "      <td>0.816143</td>\n",
       "      <td>0.747126</td>\n",
       "      <td>0.773810</td>\n",
       "      <td>0.760234</td>\n",
       "      <td>[0, 0, 0, 1, 1, 0, 1, 1, 1, 1, 0, 1, 0, 1, 1, ...</td>\n",
       "      <td>VotingClassifier(estimators=[('Logistic',\\n   ...</td>\n",
       "    </tr>\n",
       "  </tbody>\n",
       "</table>\n",
       "</div>"
      ],
      "text/plain": [
       "                                  label  accuracy    recall  precision  \\\n",
       "0                          Ada Logistic  0.807175  0.753086   0.726190   \n",
       "1                           Bagging SVM  0.735426  0.804878   0.392857   \n",
       "2                     Ada Decision Tree  0.775785  0.717949   0.666667   \n",
       "3                                Neural  0.798206  0.689320   0.845238   \n",
       "4                Votação Simples (hard)  0.780269  0.769231   0.595238   \n",
       "5                Votação Simples (soft)  0.793722  0.771429   0.642857   \n",
       "6        Votação com pesos naive (hard)  0.811659  0.744186   0.761905   \n",
       "7  Votação com pesos normalizado (hard)  0.816143  0.747126   0.773810   \n",
       "\n",
       "         F1                                            predict  \\\n",
       "0  0.739394  [0, 0, 0, 1, 1, 0, 1, 1, 1, 1, 0, 1, 0, 1, 1, ...   \n",
       "1  0.528000  [0, 0, 0, 0, 0, 0, 1, 1, 1, 0, 0, 0, 0, 1, 1, ...   \n",
       "2  0.691358  [1, 0, 1, 1, 1, 0, 1, 1, 1, 1, 0, 1, 0, 1, 1, ...   \n",
       "3  0.759358  [0, 0, 0, 1, 1, 1, 1, 1, 1, 1, 0, 1, 0, 1, 1, ...   \n",
       "4  0.671141  [0, 0, 0, 1, 1, 0, 1, 1, 1, 1, 0, 1, 0, 1, 1, ...   \n",
       "5  0.701299  [0, 0, 0, 1, 1, 0, 1, 1, 1, 1, 0, 1, 0, 1, 1, ...   \n",
       "6  0.752941  [0, 0, 0, 1, 1, 0, 1, 1, 1, 1, 0, 1, 0, 1, 1, ...   \n",
       "7  0.760234  [0, 0, 0, 1, 1, 0, 1, 1, 1, 1, 0, 1, 0, 1, 1, ...   \n",
       "\n",
       "                                          classifier  \n",
       "0  (LogisticRegression(C=1.0, class_weight=None, ...  \n",
       "1  (SVC(C=1000, break_ties=False, cache_size=200,...  \n",
       "2  (DecisionTreeClassifier(ccp_alpha=0.0, class_w...  \n",
       "3  MLPClassifier(activation='relu', alpha=0.0001,...  \n",
       "4  VotingClassifier(estimators=[('Logistic',\\n   ...  \n",
       "5  VotingClassifier(estimators=[('Logistic',\\n   ...  \n",
       "6  VotingClassifier(estimators=[('Logistic',\\n   ...  \n",
       "7  VotingClassifier(estimators=[('Logistic',\\n   ...  "
      ]
     },
     "execution_count": 31,
     "metadata": {},
     "output_type": "execute_result"
    }
   ],
   "source": [
    "update_score_dict('Votação com pesos normalizado (hard)', voting_weighted_normalized_predict, voting_weighted_normalized)\n",
    "pd.DataFrame(metrics_dict.values())"
   ]
  },
  {
   "cell_type": "code",
   "execution_count": null,
   "metadata": {},
   "outputs": [],
   "source": []
  }
 ],
 "metadata": {
  "kernelspec": {
   "display_name": "Python 3",
   "language": "python",
   "name": "python3"
  },
  "language_info": {
   "codemirror_mode": {
    "name": "ipython",
    "version": 3
   },
   "file_extension": ".py",
   "mimetype": "text/x-python",
   "name": "python",
   "nbconvert_exporter": "python",
   "pygments_lexer": "ipython3",
   "version": "3.7.4"
  }
 },
 "nbformat": 4,
 "nbformat_minor": 4
}

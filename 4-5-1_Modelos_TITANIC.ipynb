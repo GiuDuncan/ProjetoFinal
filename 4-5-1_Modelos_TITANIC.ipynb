{
 "cells": [
  {
   "cell_type": "code",
   "execution_count": 1,
   "metadata": {},
   "outputs": [],
   "source": [
    "import numpy as np\n",
    "import pandas as pd\n",
    "import matplotlib.pyplot as plt"
   ]
  },
  {
   "cell_type": "code",
   "execution_count": 2,
   "metadata": {},
   "outputs": [],
   "source": [
    "from sklearn import metrics\n",
    "from sklearn.metrics import plot_confusion_matrix"
   ]
  },
  {
   "cell_type": "code",
   "execution_count": 3,
   "metadata": {},
   "outputs": [],
   "source": [
    "from sklearn.model_selection import GridSearchCV"
   ]
  },
  {
   "cell_type": "code",
   "execution_count": 4,
   "metadata": {},
   "outputs": [],
   "source": [
    "np.random.seed(42)"
   ]
  },
  {
   "cell_type": "markdown",
   "metadata": {},
   "source": [
    "# Base"
   ]
  },
  {
   "cell_type": "code",
   "execution_count": 5,
   "metadata": {},
   "outputs": [],
   "source": [
    "# Importando a base\n",
    "train = pd.read_csv('train_treated.csv', index_col=0)"
   ]
  },
  {
   "cell_type": "markdown",
   "metadata": {},
   "source": [
    "## Dividindo entre treino e teste"
   ]
  },
  {
   "cell_type": "code",
   "execution_count": 6,
   "metadata": {},
   "outputs": [],
   "source": [
    "from sklearn.model_selection import train_test_split\n",
    "x_train, x_test, y_train, y_test = train_test_split(train.drop(columns=['Survived']), train['Survived'], test_size=0.25, random_state=0)"
   ]
  },
  {
   "cell_type": "markdown",
   "metadata": {},
   "source": [
    "# Criando dicionario de scores"
   ]
  },
  {
   "cell_type": "code",
   "execution_count": 7,
   "metadata": {},
   "outputs": [],
   "source": [
    "metrics_dict = {}"
   ]
  },
  {
   "cell_type": "code",
   "execution_count": 8,
   "metadata": {},
   "outputs": [],
   "source": [
    "def update_score_dict(name, predict, classifier):\n",
    "    metrics_dict[name] = {\n",
    "        'label': name, \n",
    "        'accuracy': metrics.accuracy_score(predict, y_test), \n",
    "        'recall': metrics.recall_score(predict, y_test), \n",
    "        'precision': metrics.precision_score(predict, y_test), \n",
    "        'F1': metrics.f1_score(predict, y_test),\n",
    "        'predict': predict,\n",
    "        'classifier': classifier\n",
    "    }"
   ]
  },
  {
   "cell_type": "markdown",
   "metadata": {},
   "source": [
    "# Plot Matriz de Confusão"
   ]
  },
  {
   "cell_type": "code",
   "execution_count": 9,
   "metadata": {},
   "outputs": [],
   "source": [
    "def plot_CM(classifier):\n",
    "    fig, ax = plt.subplots(figsize=(2, 2))\n",
    "    plot_confusion_matrix(classifier, x_test, y_test, cmap=plt.cm.Blues, values_format = '', ax=ax)\n",
    "    plt.show()"
   ]
  },
  {
   "cell_type": "markdown",
   "metadata": {},
   "source": [
    "# LogisticRegression"
   ]
  },
  {
   "cell_type": "code",
   "execution_count": 10,
   "metadata": {},
   "outputs": [],
   "source": [
    "# Importando\n",
    "from sklearn.linear_model import LogisticRegression\n",
    "# Instanciando\n",
    "logisticR = LogisticRegression(max_iter=350)"
   ]
  },
  {
   "cell_type": "code",
   "execution_count": 11,
   "metadata": {},
   "outputs": [
    {
     "data": {
      "text/plain": [
       "{'C': 1.0,\n",
       " 'class_weight': None,\n",
       " 'dual': False,\n",
       " 'fit_intercept': True,\n",
       " 'intercept_scaling': 1,\n",
       " 'l1_ratio': None,\n",
       " 'max_iter': 350,\n",
       " 'multi_class': 'auto',\n",
       " 'n_jobs': None,\n",
       " 'penalty': 'l2',\n",
       " 'random_state': None,\n",
       " 'solver': 'lbfgs',\n",
       " 'tol': 0.0001,\n",
       " 'verbose': 0,\n",
       " 'warm_start': False}"
      ]
     },
     "execution_count": 11,
     "metadata": {},
     "output_type": "execute_result"
    }
   ],
   "source": [
    "logisticR.get_params()"
   ]
  },
  {
   "cell_type": "markdown",
   "metadata": {},
   "source": [
    "## Default"
   ]
  },
  {
   "cell_type": "code",
   "execution_count": 12,
   "metadata": {},
   "outputs": [],
   "source": [
    "# Treinando e prevendo\n",
    "logisticR.fit(x_train, y_train)\n",
    "logisticR_predict = logisticR.predict(x_test)"
   ]
  },
  {
   "cell_type": "code",
   "execution_count": 13,
   "metadata": {},
   "outputs": [
    {
     "data": {
      "image/png": "[encoded data removed]",
      "text/plain": [
       "<Figure size 144x144 with 2 Axes>"
      ]
     },
     "metadata": {
      "needs_background": "light"
     },
     "output_type": "display_data"
    }
   ],
   "source": [
    "plot_CM(logisticR)"
   ]
  },
  {
   "cell_type": "code",
   "execution_count": 14,
   "metadata": {},
   "outputs": [
    {
     "data": {
      "text/html": [
       "<div>\n",
       "<style scoped>\n",
       "    .dataframe tbody tr th:only-of-type {\n",
       "        vertical-align: middle;\n",
       "    }\n",
       "\n",
       "    .dataframe tbody tr th {\n",
       "        vertical-align: top;\n",
       "    }\n",
       "\n",
       "    .dataframe thead th {\n",
       "        text-align: right;\n",
       "    }\n",
       "</style>\n",
       "<table border=\"1\" class=\"dataframe\">\n",
       "  <thead>\n",
       "    <tr style=\"text-align: right;\">\n",
       "      <th></th>\n",
       "      <th>label</th>\n",
       "      <th>accuracy</th>\n",
       "      <th>recall</th>\n",
       "      <th>precision</th>\n",
       "      <th>F1</th>\n",
       "      <th>predict</th>\n",
       "      <th>classifier</th>\n",
       "    </tr>\n",
       "  </thead>\n",
       "  <tbody>\n",
       "    <tr>\n",
       "      <th>0</th>\n",
       "      <td>Logistic default</td>\n",
       "      <td>0.793722</td>\n",
       "      <td>0.72619</td>\n",
       "      <td>0.72619</td>\n",
       "      <td>0.72619</td>\n",
       "      <td>[0, 0, 0, 1, 1, 0, 1, 1, 1, 1, 0, 1, 0, 1, 1, ...</td>\n",
       "      <td>LogisticRegression(C=1.0, class_weight=None, d...</td>\n",
       "    </tr>\n",
       "  </tbody>\n",
       "</table>\n",
       "</div>"
      ],
      "text/plain": [
       "              label  accuracy   recall  precision       F1  \\\n",
       "0  Logistic default  0.793722  0.72619    0.72619  0.72619   \n",
       "\n",
       "                                             predict  \\\n",
       "0  [0, 0, 0, 1, 1, 0, 1, 1, 1, 1, 0, 1, 0, 1, 1, ...   \n",
       "\n",
       "                                          classifier  \n",
       "0  LogisticRegression(C=1.0, class_weight=None, d...  "
      ]
     },
     "execution_count": 14,
     "metadata": {},
     "output_type": "execute_result"
    }
   ],
   "source": [
    "update_score_dict('Logistic default', logisticR_predict, logisticR)\n",
    "pd.DataFrame(metrics_dict.values())"
   ]
  },
  {
   "cell_type": "markdown",
   "metadata": {},
   "source": [
    "## Grid Search"
   ]
  },
  {
   "cell_type": "code",
   "execution_count": 15,
   "metadata": {},
   "outputs": [
    {
     "data": {
      "text/plain": [
       "array([0.37454012, 0.95071431, 0.73199394, 0.59865848, 0.15601864,\n",
       "       0.15599452, 0.05808361, 0.86617615, 0.60111501, 0.70807258,\n",
       "       0.02058449, 0.96990985, 0.83244264, 0.21233911, 0.18182497,\n",
       "       0.18340451, 0.30424224, 0.52475643, 0.43194502, 0.29122914,\n",
       "       0.61185289, 0.13949386, 0.29214465, 0.36636184, 0.45606998,\n",
       "       0.78517596, 0.19967378, 0.51423444, 0.59241457, 0.04645041,\n",
       "       0.60754485, 0.17052412, 0.06505159, 0.94888554, 0.96563203,\n",
       "       0.80839735, 0.30461377, 0.09767211, 0.68423303, 0.44015249,\n",
       "       0.12203823, 0.49517691, 0.03438852, 0.9093204 , 0.25877998,\n",
       "       0.66252228, 0.31171108, 0.52006802, 0.54671028, 0.18485446,\n",
       "       0.96958463, 0.77513282, 0.93949894, 0.89482735, 0.59789998,\n",
       "       0.92187424, 0.0884925 , 0.19598286, 0.04522729, 0.32533033,\n",
       "       0.38867729, 0.27134903, 0.82873751, 0.35675333, 0.28093451,\n",
       "       0.54269608, 0.14092422, 0.80219698, 0.07455064, 0.98688694,\n",
       "       0.77224477, 0.19871568, 0.00552212, 0.81546143, 0.70685734,\n",
       "       0.72900717, 0.77127035, 0.07404465, 0.35846573, 0.11586906,\n",
       "       0.86310343, 0.62329813, 0.33089802, 0.06355835, 0.31098232,\n",
       "       0.32518332, 0.72960618, 0.63755747, 0.88721274, 0.47221493,\n",
       "       0.11959425, 0.71324479, 0.76078505, 0.5612772 , 0.77096718,\n",
       "       0.4937956 , 0.52273283, 0.42754102, 0.02541913, 0.10789143])"
      ]
     },
     "execution_count": 15,
     "metadata": {},
     "output_type": "execute_result"
    }
   ],
   "source": [
    "rand_RL = np.random.uniform(low=0, high=1, size=(100,))\n",
    "rand_RL"
   ]
  },
  {
   "cell_type": "code",
   "execution_count": 16,
   "metadata": {},
   "outputs": [
    {
     "name": "stdout",
     "output_type": "stream",
     "text": [
      "Fitting 5 folds for each of 600 candidates, totalling 3000 fits\n"
     ]
    },
    {
     "name": "stderr",
     "output_type": "stream",
     "text": [
      "[Parallel(n_jobs=4)]: Using backend LokyBackend with 4 concurrent workers.\n",
      "[Parallel(n_jobs=4)]: Done  92 tasks      | elapsed:    1.0s\n",
      "[Parallel(n_jobs=4)]: Done 3000 out of 3000 | elapsed:    8.1s finished\n"
     ]
    }
   ],
   "source": [
    "logisticR_param_grid = {\n",
    "    'penalty' : ['l1', 'l2'],\n",
    "    'C' : rand_RL,\n",
    "    'solver' : ['liblinear', 'lbfgs', 'newton-cg']\n",
    "}\n",
    "\n",
    "logisticR_gridsearch = GridSearchCV(logisticR, param_grid = logisticR_param_grid, scoring=\"accuracy\", n_jobs=4, verbose = 1)\n",
    "\n",
    "logisticR_gridsearch.fit(x_train, y_train)\n",
    "\n",
    "logisticR_best = logisticR_gridsearch.best_estimator_"
   ]
  },
  {
   "cell_type": "code",
   "execution_count": 17,
   "metadata": {},
   "outputs": [
    {
     "data": {
      "text/plain": [
       "LogisticRegression(C=0.045227288910538066, class_weight=None, dual=False,\n",
       "                   fit_intercept=True, intercept_scaling=1, l1_ratio=None,\n",
       "                   max_iter=350, multi_class='auto', n_jobs=None, penalty='l2',\n",
       "                   random_state=None, solver='liblinear', tol=0.0001, verbose=0,\n",
       "                   warm_start=False)"
      ]
     },
     "execution_count": 17,
     "metadata": {},
     "output_type": "execute_result"
    }
   ],
   "source": [
    "logisticR_best"
   ]
  },
  {
   "cell_type": "code",
   "execution_count": 18,
   "metadata": {},
   "outputs": [],
   "source": [
    "logisticR_predict_gs = logisticR_best.predict(x_test)"
   ]
  },
  {
   "cell_type": "code",
   "execution_count": 19,
   "metadata": {},
   "outputs": [
    {
     "data": {
      "text/html": [
       "<div>\n",
       "<style scoped>\n",
       "    .dataframe tbody tr th:only-of-type {\n",
       "        vertical-align: middle;\n",
       "    }\n",
       "\n",
       "    .dataframe tbody tr th {\n",
       "        vertical-align: top;\n",
       "    }\n",
       "\n",
       "    .dataframe thead th {\n",
       "        text-align: right;\n",
       "    }\n",
       "</style>\n",
       "<table border=\"1\" class=\"dataframe\">\n",
       "  <thead>\n",
       "    <tr style=\"text-align: right;\">\n",
       "      <th></th>\n",
       "      <th>label</th>\n",
       "      <th>accuracy</th>\n",
       "      <th>recall</th>\n",
       "      <th>precision</th>\n",
       "      <th>F1</th>\n",
       "      <th>predict</th>\n",
       "      <th>classifier</th>\n",
       "    </tr>\n",
       "  </thead>\n",
       "  <tbody>\n",
       "    <tr>\n",
       "      <th>0</th>\n",
       "      <td>Logistic default</td>\n",
       "      <td>0.793722</td>\n",
       "      <td>0.726190</td>\n",
       "      <td>0.726190</td>\n",
       "      <td>0.726190</td>\n",
       "      <td>[0, 0, 0, 1, 1, 0, 1, 1, 1, 1, 0, 1, 0, 1, 1, ...</td>\n",
       "      <td>LogisticRegression(C=1.0, class_weight=None, d...</td>\n",
       "    </tr>\n",
       "    <tr>\n",
       "      <th>1</th>\n",
       "      <td>Logistic GS</td>\n",
       "      <td>0.802691</td>\n",
       "      <td>0.777778</td>\n",
       "      <td>0.666667</td>\n",
       "      <td>0.717949</td>\n",
       "      <td>[0, 0, 0, 1, 1, 0, 1, 1, 1, 1, 0, 1, 0, 1, 1, ...</td>\n",
       "      <td>LogisticRegression(C=0.045227288910538066, cla...</td>\n",
       "    </tr>\n",
       "  </tbody>\n",
       "</table>\n",
       "</div>"
      ],
      "text/plain": [
       "              label  accuracy    recall  precision        F1  \\\n",
       "0  Logistic default  0.793722  0.726190   0.726190  0.726190   \n",
       "1       Logistic GS  0.802691  0.777778   0.666667  0.717949   \n",
       "\n",
       "                                             predict  \\\n",
       "0  [0, 0, 0, 1, 1, 0, 1, 1, 1, 1, 0, 1, 0, 1, 1, ...   \n",
       "1  [0, 0, 0, 1, 1, 0, 1, 1, 1, 1, 0, 1, 0, 1, 1, ...   \n",
       "\n",
       "                                          classifier  \n",
       "0  LogisticRegression(C=1.0, class_weight=None, d...  \n",
       "1  LogisticRegression(C=0.045227288910538066, cla...  "
      ]
     },
     "execution_count": 19,
     "metadata": {},
     "output_type": "execute_result"
    }
   ],
   "source": [
    "update_score_dict('Logistic GS', logisticR_predict_gs, logisticR_best)\n",
    "pd.DataFrame(metrics_dict.values())"
   ]
  },
  {
   "cell_type": "markdown",
   "metadata": {},
   "source": [
    "# Máquina de Vetor Suporte"
   ]
  },
  {
   "cell_type": "code",
   "execution_count": 20,
   "metadata": {},
   "outputs": [],
   "source": [
    "# Importando\n",
    "from sklearn.svm import SVC\n",
    "# Instanciando\n",
    "supportV = SVC(probability=True)"
   ]
  },
  {
   "cell_type": "code",
   "execution_count": 21,
   "metadata": {},
   "outputs": [
    {
     "data": {
      "text/plain": [
       "{'C': 1.0,\n",
       " 'break_ties': False,\n",
       " 'cache_size': 200,\n",
       " 'class_weight': None,\n",
       " 'coef0': 0.0,\n",
       " 'decision_function_shape': 'ovr',\n",
       " 'degree': 3,\n",
       " 'gamma': 'scale',\n",
       " 'kernel': 'rbf',\n",
       " 'max_iter': -1,\n",
       " 'probability': True,\n",
       " 'random_state': None,\n",
       " 'shrinking': True,\n",
       " 'tol': 0.001,\n",
       " 'verbose': False}"
      ]
     },
     "execution_count": 21,
     "metadata": {},
     "output_type": "execute_result"
    }
   ],
   "source": [
    "supportV.get_params()"
   ]
  },
  {
   "cell_type": "markdown",
   "metadata": {},
   "source": [
    "## Default"
   ]
  },
  {
   "cell_type": "code",
   "execution_count": 22,
   "metadata": {},
   "outputs": [],
   "source": [
    "# Treinando e prevendo com default\n",
    "supportV.fit(x_train, y_train)\n",
    "supportV_predict = supportV.predict(x_test)"
   ]
  },
  {
   "cell_type": "code",
   "execution_count": 23,
   "metadata": {},
   "outputs": [
    {
     "data": {
      "text/html": [
       "<div>\n",
       "<style scoped>\n",
       "    .dataframe tbody tr th:only-of-type {\n",
       "        vertical-align: middle;\n",
       "    }\n",
       "\n",
       "    .dataframe tbody tr th {\n",
       "        vertical-align: top;\n",
       "    }\n",
       "\n",
       "    .dataframe thead th {\n",
       "        text-align: right;\n",
       "    }\n",
       "</style>\n",
       "<table border=\"1\" class=\"dataframe\">\n",
       "  <thead>\n",
       "    <tr style=\"text-align: right;\">\n",
       "      <th></th>\n",
       "      <th>label</th>\n",
       "      <th>accuracy</th>\n",
       "      <th>recall</th>\n",
       "      <th>precision</th>\n",
       "      <th>F1</th>\n",
       "      <th>predict</th>\n",
       "      <th>classifier</th>\n",
       "    </tr>\n",
       "  </thead>\n",
       "  <tbody>\n",
       "    <tr>\n",
       "      <th>0</th>\n",
       "      <td>Logistic default</td>\n",
       "      <td>0.793722</td>\n",
       "      <td>0.726190</td>\n",
       "      <td>0.726190</td>\n",
       "      <td>0.726190</td>\n",
       "      <td>[0, 0, 0, 1, 1, 0, 1, 1, 1, 1, 0, 1, 0, 1, 1, ...</td>\n",
       "      <td>LogisticRegression(C=1.0, class_weight=None, d...</td>\n",
       "    </tr>\n",
       "    <tr>\n",
       "      <th>1</th>\n",
       "      <td>Logistic GS</td>\n",
       "      <td>0.802691</td>\n",
       "      <td>0.777778</td>\n",
       "      <td>0.666667</td>\n",
       "      <td>0.717949</td>\n",
       "      <td>[0, 0, 0, 1, 1, 0, 1, 1, 1, 1, 0, 1, 0, 1, 1, ...</td>\n",
       "      <td>LogisticRegression(C=0.045227288910538066, cla...</td>\n",
       "    </tr>\n",
       "    <tr>\n",
       "      <th>2</th>\n",
       "      <td>SVM default</td>\n",
       "      <td>0.721973</td>\n",
       "      <td>0.823529</td>\n",
       "      <td>0.333333</td>\n",
       "      <td>0.474576</td>\n",
       "      <td>[0, 0, 0, 1, 0, 0, 1, 1, 1, 0, 0, 0, 0, 0, 1, ...</td>\n",
       "      <td>SVC(C=1.0, break_ties=False, cache_size=200, c...</td>\n",
       "    </tr>\n",
       "  </tbody>\n",
       "</table>\n",
       "</div>"
      ],
      "text/plain": [
       "              label  accuracy    recall  precision        F1  \\\n",
       "0  Logistic default  0.793722  0.726190   0.726190  0.726190   \n",
       "1       Logistic GS  0.802691  0.777778   0.666667  0.717949   \n",
       "2       SVM default  0.721973  0.823529   0.333333  0.474576   \n",
       "\n",
       "                                             predict  \\\n",
       "0  [0, 0, 0, 1, 1, 0, 1, 1, 1, 1, 0, 1, 0, 1, 1, ...   \n",
       "1  [0, 0, 0, 1, 1, 0, 1, 1, 1, 1, 0, 1, 0, 1, 1, ...   \n",
       "2  [0, 0, 0, 1, 0, 0, 1, 1, 1, 0, 0, 0, 0, 0, 1, ...   \n",
       "\n",
       "                                          classifier  \n",
       "0  LogisticRegression(C=1.0, class_weight=None, d...  \n",
       "1  LogisticRegression(C=0.045227288910538066, cla...  \n",
       "2  SVC(C=1.0, break_ties=False, cache_size=200, c...  "
      ]
     },
     "execution_count": 23,
     "metadata": {},
     "output_type": "execute_result"
    }
   ],
   "source": [
    "update_score_dict('SVM default', supportV_predict, supportV)\n",
    "pd.DataFrame(metrics_dict.values())"
   ]
  },
  {
   "cell_type": "markdown",
   "metadata": {},
   "source": [
    "## Grid Search"
   ]
  },
  {
   "cell_type": "code",
   "execution_count": 24,
   "metadata": {},
   "outputs": [
    {
     "data": {
      "text/plain": [
       "array([445.48728788, 220.04918675, 355.99948382, 635.29653175,\n",
       "       174.5045604 , 287.26804612, 528.88579698, 160.15871584,\n",
       "        53.88593688, 202.82601704, 112.85490108, 650.78835664,\n",
       "       565.6842657 , 443.38262956, 610.02241313, 562.57045383,\n",
       "       130.59904122, 624.79129894, 377.53956934, 565.20810861,\n",
       "       627.26390995, 222.60243248,  77.03634717, 159.55461378,\n",
       "       298.97545204, 572.61033615, 602.51140828,   4.86649137,\n",
       "       357.5231118 , 292.1877022 , 155.47546733,  83.90575713,\n",
       "       236.33061998, 660.03679274, 226.24205241, 363.15343522,\n",
       "       492.11327123, 254.54072167, 680.2474579 , 673.71310646,\n",
       "       176.24760708, 348.07395412, 210.61481687, 199.38834606,\n",
       "        25.82086315, 426.69503379, 351.87531626,  36.03512587,\n",
       "       195.05252497, 635.78612018, 167.69332347, 101.42641046,\n",
       "       342.61693219, 689.95531788, 169.43869006, 470.49488318,\n",
       "       533.13373073, 166.34628079, 509.75144403, 257.4481929 ,\n",
       "       442.61408142, 443.47079753, 375.04227885,  63.20283904,\n",
       "       584.71174691, 224.54604548, 130.56295728,  28.54259909,\n",
       "       413.62506023, 474.29505329,  11.61148025, 358.46514081,\n",
       "       158.54704264, 451.62095329, 122.0565003 , 483.65641667,\n",
       "       270.71474241, 655.71099212,  96.2646609 , 238.74644574,\n",
       "        79.43146487, 647.28553279, 614.13754737, 180.5591394 ,\n",
       "       461.98883222, 572.05554014, 388.64056812, 370.75540485,\n",
       "       169.29660363,  65.17193746, 628.05103057, 630.29264001,\n",
       "       443.17102009, 237.32085373, 244.44670223, 508.16897521,\n",
       "       627.97718197, 620.96049699, 545.9128821 , 449.42215231,\n",
       "        58.8979755 , 113.14009987, 628.98793197, 424.50034176,\n",
       "         6.43793613,  71.03008001, 464.45123838,   3.54310869,\n",
       "       112.56563599, 384.11365256, 484.32663838, 456.37288165,\n",
       "       156.98851662, 498.52545494, 166.07436125, 227.77978871,\n",
       "       522.54398358, 454.74302933, 594.45638735, 460.32902461,\n",
       "       397.81602233,  65.57233748, 257.40106214, 185.64165738,\n",
       "       170.79275037, 681.10738833, 275.16840727, 624.43258862,\n",
       "       441.7970382 , 556.36791248, 351.84596517, 403.83271924,\n",
       "       344.76238567, 136.67009146, 505.71648068, 196.54065371,\n",
       "        17.0211765 , 451.83060714, 123.97747558, 658.32100905,\n",
       "       667.7500039 , 640.40507315, 259.11109018,  10.81963157,\n",
       "       649.82299381, 299.72890382, 676.65837333, 674.53398396,\n",
       "       597.10661883, 206.11422445, 269.56841002, 595.79567006,\n",
       "       221.84540361, 118.64492268, 389.76088372, 655.30834191,\n",
       "       487.22085767, 399.04281906,  68.02354564, 430.50505869,\n",
       "       693.03769507,  98.05881067, 362.83075665, 614.16115035,\n",
       "       518.53803243, 487.9110187 , 491.73885879, 251.64380585,\n",
       "       205.51429099, 566.55280883, 567.07937628, 606.95062301,\n",
       "       639.26838679, 357.9396792 , 351.06140628, 558.80662528,\n",
       "       454.97475154, 491.37681408, 557.05486861, 623.00373927,\n",
       "       236.5966098 , 262.90806685,  65.78735789, 404.7960987 ,\n",
       "        25.15959166, 325.91861269, 379.8512443 , 200.57887649,\n",
       "       413.5832824 ,  21.35017496,  26.14373212, 575.82039246,\n",
       "       252.13344899,  88.94235886, 365.57028204, 538.99548717,\n",
       "       151.07471925, 436.02333307,  59.7432255 ,  36.17720482,\n",
       "       371.9482421 , 378.44458513, 446.20093105, 508.26393361,\n",
       "       683.09645562, 361.41024381, 226.06953106, 556.63033634,\n",
       "       189.58257588, 307.27999449,  54.91946694,  17.74552039,\n",
       "       673.85389027, 585.18608436, 487.18194427, 286.26706109,\n",
       "       121.30602405, 109.50592987, 175.17002872, 384.45866529,\n",
       "       500.21714589, 462.1381637 , 195.95372786, 668.40569646,\n",
       "       516.52784169, 388.04783676, 428.20452236, 293.7200437 ,\n",
       "       173.41169265, 249.18087506, 530.49227733,  10.07544204,\n",
       "        81.25084835,  32.20184942,  28.51016162, 598.82240881,\n",
       "       492.56050157, 331.92168036,  68.48391246, 344.13111258,\n",
       "       331.43023955, 121.24130894, 303.69615447, 278.95331408,\n",
       "       431.09506864, 444.56555561,  31.71280684, 262.22883024,\n",
       "       438.101941  , 352.19538101, 599.54288883, 461.08554213,\n",
       "       114.05409896,  49.39812318, 449.69349474,  18.55791738,\n",
       "       410.04290689, 658.161169  , 402.83192451, 271.71894834,\n",
       "       450.30175291, 320.77702334, 381.93175252, 659.02536614,\n",
       "       270.27184646, 672.83339468, 633.74544937, 137.05379435,\n",
       "        48.55291061,  70.54460096,  12.75527796,  66.11007253,\n",
       "       478.10474139,  49.83205392, 223.28294121, 591.41271768,\n",
       "        16.29035502, 570.12793781, 197.29834234,  82.71537934,\n",
       "       487.71601575, 440.25999275, 614.23040947, 514.54973066,\n",
       "       562.43665127, 197.4242008 , 124.20768065, 525.43032615,\n",
       "       564.78431749, 693.3535994 , 288.83237384, 260.41266005,\n",
       "       543.48907252, 238.56247818, 651.53012792, 600.88892629,\n",
       "       300.29581916, 525.60974745, 528.18001186,  72.18670819])"
      ]
     },
     "execution_count": 24,
     "metadata": {},
     "output_type": "execute_result"
    }
   ],
   "source": [
    "rand_svm = np.random.uniform(low=0, high=700, size=(300,))\n",
    "rand_svm"
   ]
  },
  {
   "cell_type": "code",
   "execution_count": 25,
   "metadata": {},
   "outputs": [
    {
     "name": "stderr",
     "output_type": "stream",
     "text": [
      "[Parallel(n_jobs=4)]: Using backend LokyBackend with 4 concurrent workers.\n"
     ]
    },
    {
     "name": "stdout",
     "output_type": "stream",
     "text": [
      "Fitting 5 folds for each of 600 candidates, totalling 3000 fits\n"
     ]
    },
    {
     "name": "stderr",
     "output_type": "stream",
     "text": [
      "[Parallel(n_jobs=4)]: Done  76 tasks      | elapsed:    1.8s\n",
      "[Parallel(n_jobs=4)]: Done 376 tasks      | elapsed:    8.8s\n",
      "[Parallel(n_jobs=4)]: Done 876 tasks      | elapsed:   20.2s\n",
      "[Parallel(n_jobs=4)]: Done 1576 tasks      | elapsed:   37.0s\n",
      "[Parallel(n_jobs=4)]: Done 2592 tasks      | elapsed:  1.0min\n",
      "[Parallel(n_jobs=4)]: Done 3000 out of 3000 | elapsed:  1.2min finished\n"
     ]
    }
   ],
   "source": [
    "supportV_param_grid = {\n",
    "    'gamma': ['scale', 'auto'],\n",
    "    'C': rand_svm\n",
    "}\n",
    "\n",
    "supportV_gridsearch = GridSearchCV(supportV, param_grid = supportV_param_grid, scoring=\"accuracy\", n_jobs=4, verbose = 1)\n",
    "\n",
    "supportV_gridsearch.fit(x_train, y_train)\n",
    "\n",
    "supportV_best = supportV_gridsearch.best_estimator_"
   ]
  },
  {
   "cell_type": "code",
   "execution_count": 26,
   "metadata": {},
   "outputs": [
    {
     "data": {
      "text/plain": [
       "SVC(C=492.1132712266245, break_ties=False, cache_size=200, class_weight=None,\n",
       "    coef0=0.0, decision_function_shape='ovr', degree=3, gamma='scale',\n",
       "    kernel='rbf', max_iter=-1, probability=True, random_state=None,\n",
       "    shrinking=True, tol=0.001, verbose=False)"
      ]
     },
     "execution_count": 26,
     "metadata": {},
     "output_type": "execute_result"
    }
   ],
   "source": [
    "supportV_best"
   ]
  },
  {
   "cell_type": "code",
   "execution_count": 27,
   "metadata": {},
   "outputs": [],
   "source": [
    "supportV_predict_gs = supportV_best.predict(x_test)"
   ]
  },
  {
   "cell_type": "code",
   "execution_count": 28,
   "metadata": {},
   "outputs": [
    {
     "data": {
      "text/html": [
       "<div>\n",
       "<style scoped>\n",
       "    .dataframe tbody tr th:only-of-type {\n",
       "        vertical-align: middle;\n",
       "    }\n",
       "\n",
       "    .dataframe tbody tr th {\n",
       "        vertical-align: top;\n",
       "    }\n",
       "\n",
       "    .dataframe thead th {\n",
       "        text-align: right;\n",
       "    }\n",
       "</style>\n",
       "<table border=\"1\" class=\"dataframe\">\n",
       "  <thead>\n",
       "    <tr style=\"text-align: right;\">\n",
       "      <th></th>\n",
       "      <th>label</th>\n",
       "      <th>accuracy</th>\n",
       "      <th>recall</th>\n",
       "      <th>precision</th>\n",
       "      <th>F1</th>\n",
       "      <th>predict</th>\n",
       "      <th>classifier</th>\n",
       "    </tr>\n",
       "  </thead>\n",
       "  <tbody>\n",
       "    <tr>\n",
       "      <th>0</th>\n",
       "      <td>Logistic default</td>\n",
       "      <td>0.793722</td>\n",
       "      <td>0.726190</td>\n",
       "      <td>0.726190</td>\n",
       "      <td>0.726190</td>\n",
       "      <td>[0, 0, 0, 1, 1, 0, 1, 1, 1, 1, 0, 1, 0, 1, 1, ...</td>\n",
       "      <td>LogisticRegression(C=1.0, class_weight=None, d...</td>\n",
       "    </tr>\n",
       "    <tr>\n",
       "      <th>1</th>\n",
       "      <td>Logistic GS</td>\n",
       "      <td>0.802691</td>\n",
       "      <td>0.777778</td>\n",
       "      <td>0.666667</td>\n",
       "      <td>0.717949</td>\n",
       "      <td>[0, 0, 0, 1, 1, 0, 1, 1, 1, 1, 0, 1, 0, 1, 1, ...</td>\n",
       "      <td>LogisticRegression(C=0.045227288910538066, cla...</td>\n",
       "    </tr>\n",
       "    <tr>\n",
       "      <th>2</th>\n",
       "      <td>SVM default</td>\n",
       "      <td>0.721973</td>\n",
       "      <td>0.823529</td>\n",
       "      <td>0.333333</td>\n",
       "      <td>0.474576</td>\n",
       "      <td>[0, 0, 0, 1, 0, 0, 1, 1, 1, 0, 0, 0, 0, 0, 1, ...</td>\n",
       "      <td>SVC(C=1.0, break_ties=False, cache_size=200, c...</td>\n",
       "    </tr>\n",
       "    <tr>\n",
       "      <th>3</th>\n",
       "      <td>SVM GS</td>\n",
       "      <td>0.784753</td>\n",
       "      <td>0.714286</td>\n",
       "      <td>0.714286</td>\n",
       "      <td>0.714286</td>\n",
       "      <td>[0, 0, 0, 0, 1, 0, 1, 0, 0, 1, 0, 1, 0, 1, 1, ...</td>\n",
       "      <td>SVC(C=492.1132712266245, break_ties=False, cac...</td>\n",
       "    </tr>\n",
       "  </tbody>\n",
       "</table>\n",
       "</div>"
      ],
      "text/plain": [
       "              label  accuracy    recall  precision        F1  \\\n",
       "0  Logistic default  0.793722  0.726190   0.726190  0.726190   \n",
       "1       Logistic GS  0.802691  0.777778   0.666667  0.717949   \n",
       "2       SVM default  0.721973  0.823529   0.333333  0.474576   \n",
       "3            SVM GS  0.784753  0.714286   0.714286  0.714286   \n",
       "\n",
       "                                             predict  \\\n",
       "0  [0, 0, 0, 1, 1, 0, 1, 1, 1, 1, 0, 1, 0, 1, 1, ...   \n",
       "1  [0, 0, 0, 1, 1, 0, 1, 1, 1, 1, 0, 1, 0, 1, 1, ...   \n",
       "2  [0, 0, 0, 1, 0, 0, 1, 1, 1, 0, 0, 0, 0, 0, 1, ...   \n",
       "3  [0, 0, 0, 0, 1, 0, 1, 0, 0, 1, 0, 1, 0, 1, 1, ...   \n",
       "\n",
       "                                          classifier  \n",
       "0  LogisticRegression(C=1.0, class_weight=None, d...  \n",
       "1  LogisticRegression(C=0.045227288910538066, cla...  \n",
       "2  SVC(C=1.0, break_ties=False, cache_size=200, c...  \n",
       "3  SVC(C=492.1132712266245, break_ties=False, cac...  "
      ]
     },
     "execution_count": 28,
     "metadata": {},
     "output_type": "execute_result"
    }
   ],
   "source": [
    "update_score_dict('SVM GS', supportV_predict_gs, supportV_best)\n",
    "pd.DataFrame(metrics_dict.values())"
   ]
  },
  {
   "cell_type": "markdown",
   "metadata": {},
   "source": [
    "# Decision tree"
   ]
  },
  {
   "cell_type": "code",
   "execution_count": 29,
   "metadata": {},
   "outputs": [],
   "source": [
    "# Importando\n",
    "from sklearn.tree import DecisionTreeClassifier\n",
    "# Instanciando\n",
    "decisionT = DecisionTreeClassifier(random_state=42)"
   ]
  },
  {
   "cell_type": "code",
   "execution_count": 30,
   "metadata": {},
   "outputs": [
    {
     "data": {
      "text/plain": [
       "{'ccp_alpha': 0.0,\n",
       " 'class_weight': None,\n",
       " 'criterion': 'gini',\n",
       " 'max_depth': None,\n",
       " 'max_features': None,\n",
       " 'max_leaf_nodes': None,\n",
       " 'min_impurity_decrease': 0.0,\n",
       " 'min_impurity_split': None,\n",
       " 'min_samples_leaf': 1,\n",
       " 'min_samples_split': 2,\n",
       " 'min_weight_fraction_leaf': 0.0,\n",
       " 'presort': 'deprecated',\n",
       " 'random_state': 42,\n",
       " 'splitter': 'best'}"
      ]
     },
     "execution_count": 30,
     "metadata": {},
     "output_type": "execute_result"
    }
   ],
   "source": [
    "decisionT.get_params()"
   ]
  },
  {
   "cell_type": "markdown",
   "metadata": {},
   "source": [
    "## Default"
   ]
  },
  {
   "cell_type": "code",
   "execution_count": 31,
   "metadata": {},
   "outputs": [],
   "source": [
    "# Treinando e prevendo\n",
    "decisionT.fit(x_train, y_train)\n",
    "decisionT_predict = decisionT.predict(x_test)"
   ]
  },
  {
   "cell_type": "code",
   "execution_count": 32,
   "metadata": {},
   "outputs": [
    {
     "data": {
      "text/html": [
       "<div>\n",
       "<style scoped>\n",
       "    .dataframe tbody tr th:only-of-type {\n",
       "        vertical-align: middle;\n",
       "    }\n",
       "\n",
       "    .dataframe tbody tr th {\n",
       "        vertical-align: top;\n",
       "    }\n",
       "\n",
       "    .dataframe thead th {\n",
       "        text-align: right;\n",
       "    }\n",
       "</style>\n",
       "<table border=\"1\" class=\"dataframe\">\n",
       "  <thead>\n",
       "    <tr style=\"text-align: right;\">\n",
       "      <th></th>\n",
       "      <th>label</th>\n",
       "      <th>accuracy</th>\n",
       "      <th>recall</th>\n",
       "      <th>precision</th>\n",
       "      <th>F1</th>\n",
       "      <th>predict</th>\n",
       "      <th>classifier</th>\n",
       "    </tr>\n",
       "  </thead>\n",
       "  <tbody>\n",
       "    <tr>\n",
       "      <th>0</th>\n",
       "      <td>Logistic default</td>\n",
       "      <td>0.793722</td>\n",
       "      <td>0.726190</td>\n",
       "      <td>0.726190</td>\n",
       "      <td>0.726190</td>\n",
       "      <td>[0, 0, 0, 1, 1, 0, 1, 1, 1, 1, 0, 1, 0, 1, 1, ...</td>\n",
       "      <td>LogisticRegression(C=1.0, class_weight=None, d...</td>\n",
       "    </tr>\n",
       "    <tr>\n",
       "      <th>1</th>\n",
       "      <td>Logistic GS</td>\n",
       "      <td>0.802691</td>\n",
       "      <td>0.777778</td>\n",
       "      <td>0.666667</td>\n",
       "      <td>0.717949</td>\n",
       "      <td>[0, 0, 0, 1, 1, 0, 1, 1, 1, 1, 0, 1, 0, 1, 1, ...</td>\n",
       "      <td>LogisticRegression(C=0.045227288910538066, cla...</td>\n",
       "    </tr>\n",
       "    <tr>\n",
       "      <th>2</th>\n",
       "      <td>SVM default</td>\n",
       "      <td>0.721973</td>\n",
       "      <td>0.823529</td>\n",
       "      <td>0.333333</td>\n",
       "      <td>0.474576</td>\n",
       "      <td>[0, 0, 0, 1, 0, 0, 1, 1, 1, 0, 0, 0, 0, 0, 1, ...</td>\n",
       "      <td>SVC(C=1.0, break_ties=False, cache_size=200, c...</td>\n",
       "    </tr>\n",
       "    <tr>\n",
       "      <th>3</th>\n",
       "      <td>SVM GS</td>\n",
       "      <td>0.784753</td>\n",
       "      <td>0.714286</td>\n",
       "      <td>0.714286</td>\n",
       "      <td>0.714286</td>\n",
       "      <td>[0, 0, 0, 0, 1, 0, 1, 0, 0, 1, 0, 1, 0, 1, 1, ...</td>\n",
       "      <td>SVC(C=492.1132712266245, break_ties=False, cac...</td>\n",
       "    </tr>\n",
       "    <tr>\n",
       "      <th>4</th>\n",
       "      <td>Decision default</td>\n",
       "      <td>0.753363</td>\n",
       "      <td>0.670588</td>\n",
       "      <td>0.678571</td>\n",
       "      <td>0.674556</td>\n",
       "      <td>[0, 0, 0, 1, 1, 0, 1, 1, 1, 1, 0, 0, 0, 1, 1, ...</td>\n",
       "      <td>DecisionTreeClassifier(ccp_alpha=0.0, class_we...</td>\n",
       "    </tr>\n",
       "  </tbody>\n",
       "</table>\n",
       "</div>"
      ],
      "text/plain": [
       "              label  accuracy    recall  precision        F1  \\\n",
       "0  Logistic default  0.793722  0.726190   0.726190  0.726190   \n",
       "1       Logistic GS  0.802691  0.777778   0.666667  0.717949   \n",
       "2       SVM default  0.721973  0.823529   0.333333  0.474576   \n",
       "3            SVM GS  0.784753  0.714286   0.714286  0.714286   \n",
       "4  Decision default  0.753363  0.670588   0.678571  0.674556   \n",
       "\n",
       "                                             predict  \\\n",
       "0  [0, 0, 0, 1, 1, 0, 1, 1, 1, 1, 0, 1, 0, 1, 1, ...   \n",
       "1  [0, 0, 0, 1, 1, 0, 1, 1, 1, 1, 0, 1, 0, 1, 1, ...   \n",
       "2  [0, 0, 0, 1, 0, 0, 1, 1, 1, 0, 0, 0, 0, 0, 1, ...   \n",
       "3  [0, 0, 0, 0, 1, 0, 1, 0, 0, 1, 0, 1, 0, 1, 1, ...   \n",
       "4  [0, 0, 0, 1, 1, 0, 1, 1, 1, 1, 0, 0, 0, 1, 1, ...   \n",
       "\n",
       "                                          classifier  \n",
       "0  LogisticRegression(C=1.0, class_weight=None, d...  \n",
       "1  LogisticRegression(C=0.045227288910538066, cla...  \n",
       "2  SVC(C=1.0, break_ties=False, cache_size=200, c...  \n",
       "3  SVC(C=492.1132712266245, break_ties=False, cac...  \n",
       "4  DecisionTreeClassifier(ccp_alpha=0.0, class_we...  "
      ]
     },
     "execution_count": 32,
     "metadata": {},
     "output_type": "execute_result"
    }
   ],
   "source": [
    "update_score_dict('Decision default', decisionT_predict, decisionT)\n",
    "pd.DataFrame(metrics_dict.values())"
   ]
  },
  {
   "cell_type": "markdown",
   "metadata": {},
   "source": [
    "## Grid Search"
   ]
  },
  {
   "cell_type": "code",
   "execution_count": 33,
   "metadata": {},
   "outputs": [
    {
     "data": {
      "text/plain": [
       "[8.274619788244507,\n",
       " 7.9724895254646215,\n",
       " 7.116944689753628,\n",
       " 6.381081396074487,\n",
       " 4.799879097294907,\n",
       " 4.427882373978951,\n",
       " 11.668331975065588,\n",
       " 10.777145152764717,\n",
       " 6.839241523701765,\n",
       " 11.654407081011652,\n",
       " 9.414159235394425,\n",
       " 7.86016759714114,\n",
       " 7.94420526217444,\n",
       " 4.666275289562077,\n",
       " 4.733633178067849,\n",
       " 8.819527407208952,\n",
       " 8.429624418766405,\n",
       " 5.701823160193832,\n",
       " 11.569556343053522,\n",
       " 10.25036840376962,\n",
       " 4.907716816139584,\n",
       " 11.44743284549834,\n",
       " 11.793985668275281,\n",
       " 11.967449936242634,\n",
       " 4.4469692374188,\n",
       " 9.896284454328072,\n",
       " 8.367326161319912,\n",
       " 9.646651871029556,\n",
       " 11.749215551793078,\n",
       " 9.504240081400312,\n",
       " 10.695710993898992,\n",
       " 10.934949642486732,\n",
       " 10.70784611011188,\n",
       " 7.408731800375529,\n",
       " 5.780611340568244,\n",
       " 7.173212815634015,\n",
       " 11.135175270214212,\n",
       " 5.172838573536204,\n",
       " 8.106609349539143,\n",
       " 5.8658245793962225,\n",
       " 8.65044333781426,\n",
       " 10.90510817591203,\n",
       " 11.042879749107335,\n",
       " 5.89348154945663,\n",
       " 11.261549650788371,\n",
       " 8.735109910570275,\n",
       " 6.801745973602508,\n",
       " 9.665449564665598,\n",
       " 7.853335903712923,\n",
       " 7.023900720978036,\n",
       " None]"
      ]
     },
     "execution_count": 33,
     "metadata": {},
     "output_type": "execute_result"
    }
   ],
   "source": [
    "rand_DT = np.random.uniform(low=4, high=12, size=(50,))\n",
    "rand_DT = list(rand_DT)\n",
    "rand_DT.append(None)\n",
    "rand_DT"
   ]
  },
  {
   "cell_type": "code",
   "execution_count": 34,
   "metadata": {},
   "outputs": [
    {
     "name": "stdout",
     "output_type": "stream",
     "text": [
      "Fitting 5 folds for each of 816 candidates, totalling 4080 fits\n"
     ]
    },
    {
     "name": "stderr",
     "output_type": "stream",
     "text": [
      "[Parallel(n_jobs=4)]: Using backend LokyBackend with 4 concurrent workers.\n",
      "[Parallel(n_jobs=4)]: Done 312 tasks      | elapsed:    0.3s\n",
      "[Parallel(n_jobs=4)]: Done 4080 out of 4080 | elapsed:    2.7s finished\n"
     ]
    }
   ],
   "source": [
    "decisionT_param_grid = {\n",
    "    'splitter': ['best', 'random'],\n",
    "    'criterion': ['gini', 'entropy'],\n",
    "    'max_features': [None, 'auto', 'sqrt', 'log2'],\n",
    "    'max_depth': rand_DT\n",
    "}\n",
    "\n",
    "decisionT_gridsearch = GridSearchCV(decisionT, param_grid=decisionT_param_grid, scoring=\"accuracy\", n_jobs=4, verbose = 1)\n",
    "\n",
    "decisionT_gridsearch.fit(x_train, y_train)\n",
    "\n",
    "decisionT_best = decisionT_gridsearch.best_estimator_"
   ]
  },
  {
   "cell_type": "code",
   "execution_count": 35,
   "metadata": {},
   "outputs": [
    {
     "data": {
      "text/plain": [
       "DecisionTreeClassifier(ccp_alpha=0.0, class_weight=None, criterion='entropy',\n",
       "                       max_depth=5.701823160193832, max_features=None,\n",
       "                       max_leaf_nodes=None, min_impurity_decrease=0.0,\n",
       "                       min_impurity_split=None, min_samples_leaf=1,\n",
       "                       min_samples_split=2, min_weight_fraction_leaf=0.0,\n",
       "                       presort='deprecated', random_state=42, splitter='best')"
      ]
     },
     "execution_count": 35,
     "metadata": {},
     "output_type": "execute_result"
    }
   ],
   "source": [
    "decisionT_best"
   ]
  },
  {
   "cell_type": "code",
   "execution_count": 36,
   "metadata": {},
   "outputs": [],
   "source": [
    "decisionT_predict_gs = decisionT_best.predict(x_test)"
   ]
  },
  {
   "cell_type": "code",
   "execution_count": 37,
   "metadata": {},
   "outputs": [
    {
     "data": {
      "text/html": [
       "<div>\n",
       "<style scoped>\n",
       "    .dataframe tbody tr th:only-of-type {\n",
       "        vertical-align: middle;\n",
       "    }\n",
       "\n",
       "    .dataframe tbody tr th {\n",
       "        vertical-align: top;\n",
       "    }\n",
       "\n",
       "    .dataframe thead th {\n",
       "        text-align: right;\n",
       "    }\n",
       "</style>\n",
       "<table border=\"1\" class=\"dataframe\">\n",
       "  <thead>\n",
       "    <tr style=\"text-align: right;\">\n",
       "      <th></th>\n",
       "      <th>label</th>\n",
       "      <th>accuracy</th>\n",
       "      <th>recall</th>\n",
       "      <th>precision</th>\n",
       "      <th>F1</th>\n",
       "      <th>predict</th>\n",
       "      <th>classifier</th>\n",
       "    </tr>\n",
       "  </thead>\n",
       "  <tbody>\n",
       "    <tr>\n",
       "      <th>0</th>\n",
       "      <td>Logistic default</td>\n",
       "      <td>0.793722</td>\n",
       "      <td>0.726190</td>\n",
       "      <td>0.726190</td>\n",
       "      <td>0.726190</td>\n",
       "      <td>[0, 0, 0, 1, 1, 0, 1, 1, 1, 1, 0, 1, 0, 1, 1, ...</td>\n",
       "      <td>LogisticRegression(C=1.0, class_weight=None, d...</td>\n",
       "    </tr>\n",
       "    <tr>\n",
       "      <th>1</th>\n",
       "      <td>Logistic GS</td>\n",
       "      <td>0.802691</td>\n",
       "      <td>0.777778</td>\n",
       "      <td>0.666667</td>\n",
       "      <td>0.717949</td>\n",
       "      <td>[0, 0, 0, 1, 1, 0, 1, 1, 1, 1, 0, 1, 0, 1, 1, ...</td>\n",
       "      <td>LogisticRegression(C=0.045227288910538066, cla...</td>\n",
       "    </tr>\n",
       "    <tr>\n",
       "      <th>2</th>\n",
       "      <td>SVM default</td>\n",
       "      <td>0.721973</td>\n",
       "      <td>0.823529</td>\n",
       "      <td>0.333333</td>\n",
       "      <td>0.474576</td>\n",
       "      <td>[0, 0, 0, 1, 0, 0, 1, 1, 1, 0, 0, 0, 0, 0, 1, ...</td>\n",
       "      <td>SVC(C=1.0, break_ties=False, cache_size=200, c...</td>\n",
       "    </tr>\n",
       "    <tr>\n",
       "      <th>3</th>\n",
       "      <td>SVM GS</td>\n",
       "      <td>0.784753</td>\n",
       "      <td>0.714286</td>\n",
       "      <td>0.714286</td>\n",
       "      <td>0.714286</td>\n",
       "      <td>[0, 0, 0, 0, 1, 0, 1, 0, 0, 1, 0, 1, 0, 1, 1, ...</td>\n",
       "      <td>SVC(C=492.1132712266245, break_ties=False, cac...</td>\n",
       "    </tr>\n",
       "    <tr>\n",
       "      <th>4</th>\n",
       "      <td>Decision default</td>\n",
       "      <td>0.753363</td>\n",
       "      <td>0.670588</td>\n",
       "      <td>0.678571</td>\n",
       "      <td>0.674556</td>\n",
       "      <td>[0, 0, 0, 1, 1, 0, 1, 1, 1, 1, 0, 0, 0, 1, 1, ...</td>\n",
       "      <td>DecisionTreeClassifier(ccp_alpha=0.0, class_we...</td>\n",
       "    </tr>\n",
       "    <tr>\n",
       "      <th>5</th>\n",
       "      <td>Decision GS</td>\n",
       "      <td>0.820628</td>\n",
       "      <td>0.782051</td>\n",
       "      <td>0.726190</td>\n",
       "      <td>0.753086</td>\n",
       "      <td>[0, 0, 0, 1, 1, 0, 1, 1, 0, 1, 0, 1, 0, 1, 1, ...</td>\n",
       "      <td>DecisionTreeClassifier(ccp_alpha=0.0, class_we...</td>\n",
       "    </tr>\n",
       "  </tbody>\n",
       "</table>\n",
       "</div>"
      ],
      "text/plain": [
       "              label  accuracy    recall  precision        F1  \\\n",
       "0  Logistic default  0.793722  0.726190   0.726190  0.726190   \n",
       "1       Logistic GS  0.802691  0.777778   0.666667  0.717949   \n",
       "2       SVM default  0.721973  0.823529   0.333333  0.474576   \n",
       "3            SVM GS  0.784753  0.714286   0.714286  0.714286   \n",
       "4  Decision default  0.753363  0.670588   0.678571  0.674556   \n",
       "5       Decision GS  0.820628  0.782051   0.726190  0.753086   \n",
       "\n",
       "                                             predict  \\\n",
       "0  [0, 0, 0, 1, 1, 0, 1, 1, 1, 1, 0, 1, 0, 1, 1, ...   \n",
       "1  [0, 0, 0, 1, 1, 0, 1, 1, 1, 1, 0, 1, 0, 1, 1, ...   \n",
       "2  [0, 0, 0, 1, 0, 0, 1, 1, 1, 0, 0, 0, 0, 0, 1, ...   \n",
       "3  [0, 0, 0, 0, 1, 0, 1, 0, 0, 1, 0, 1, 0, 1, 1, ...   \n",
       "4  [0, 0, 0, 1, 1, 0, 1, 1, 1, 1, 0, 0, 0, 1, 1, ...   \n",
       "5  [0, 0, 0, 1, 1, 0, 1, 1, 0, 1, 0, 1, 0, 1, 1, ...   \n",
       "\n",
       "                                          classifier  \n",
       "0  LogisticRegression(C=1.0, class_weight=None, d...  \n",
       "1  LogisticRegression(C=0.045227288910538066, cla...  \n",
       "2  SVC(C=1.0, break_ties=False, cache_size=200, c...  \n",
       "3  SVC(C=492.1132712266245, break_ties=False, cac...  \n",
       "4  DecisionTreeClassifier(ccp_alpha=0.0, class_we...  \n",
       "5  DecisionTreeClassifier(ccp_alpha=0.0, class_we...  "
      ]
     },
     "execution_count": 37,
     "metadata": {},
     "output_type": "execute_result"
    }
   ],
   "source": [
    "update_score_dict('Decision GS', decisionT_predict_gs, decisionT_best)\n",
    "pd.DataFrame(metrics_dict.values())"
   ]
  },
  {
   "cell_type": "markdown",
   "metadata": {},
   "source": [
    "# Redes Neurais"
   ]
  },
  {
   "cell_type": "code",
   "execution_count": 38,
   "metadata": {},
   "outputs": [],
   "source": [
    "# Importando\n",
    "from sklearn.neural_network import MLPClassifier\n",
    "# Instanciando\n",
    "neuralN = MLPClassifier(random_state=42, max_iter=1500)"
   ]
  },
  {
   "cell_type": "code",
   "execution_count": 39,
   "metadata": {},
   "outputs": [
    {
     "data": {
      "text/plain": [
       "{'activation': 'relu',\n",
       " 'alpha': 0.0001,\n",
       " 'batch_size': 'auto',\n",
       " 'beta_1': 0.9,\n",
       " 'beta_2': 0.999,\n",
       " 'early_stopping': False,\n",
       " 'epsilon': 1e-08,\n",
       " 'hidden_layer_sizes': (100,),\n",
       " 'learning_rate': 'constant',\n",
       " 'learning_rate_init': 0.001,\n",
       " 'max_fun': 15000,\n",
       " 'max_iter': 1500,\n",
       " 'momentum': 0.9,\n",
       " 'n_iter_no_change': 10,\n",
       " 'nesterovs_momentum': True,\n",
       " 'power_t': 0.5,\n",
       " 'random_state': 42,\n",
       " 'shuffle': True,\n",
       " 'solver': 'adam',\n",
       " 'tol': 0.0001,\n",
       " 'validation_fraction': 0.1,\n",
       " 'verbose': False,\n",
       " 'warm_start': False}"
      ]
     },
     "execution_count": 39,
     "metadata": {},
     "output_type": "execute_result"
    }
   ],
   "source": [
    "neuralN.get_params()"
   ]
  },
  {
   "cell_type": "markdown",
   "metadata": {},
   "source": [
    "## Default"
   ]
  },
  {
   "cell_type": "code",
   "execution_count": 40,
   "metadata": {},
   "outputs": [],
   "source": [
    "# Treinando e prevendo\n",
    "neuralN.fit(x_train, y_train)\n",
    "neuralN_predict = neuralN.predict(x_test)"
   ]
  },
  {
   "cell_type": "code",
   "execution_count": 41,
   "metadata": {},
   "outputs": [
    {
     "data": {
      "text/html": [
       "<div>\n",
       "<style scoped>\n",
       "    .dataframe tbody tr th:only-of-type {\n",
       "        vertical-align: middle;\n",
       "    }\n",
       "\n",
       "    .dataframe tbody tr th {\n",
       "        vertical-align: top;\n",
       "    }\n",
       "\n",
       "    .dataframe thead th {\n",
       "        text-align: right;\n",
       "    }\n",
       "</style>\n",
       "<table border=\"1\" class=\"dataframe\">\n",
       "  <thead>\n",
       "    <tr style=\"text-align: right;\">\n",
       "      <th></th>\n",
       "      <th>label</th>\n",
       "      <th>accuracy</th>\n",
       "      <th>recall</th>\n",
       "      <th>precision</th>\n",
       "      <th>F1</th>\n",
       "      <th>predict</th>\n",
       "      <th>classifier</th>\n",
       "    </tr>\n",
       "  </thead>\n",
       "  <tbody>\n",
       "    <tr>\n",
       "      <th>0</th>\n",
       "      <td>Logistic default</td>\n",
       "      <td>0.793722</td>\n",
       "      <td>0.726190</td>\n",
       "      <td>0.726190</td>\n",
       "      <td>0.726190</td>\n",
       "      <td>[0, 0, 0, 1, 1, 0, 1, 1, 1, 1, 0, 1, 0, 1, 1, ...</td>\n",
       "      <td>LogisticRegression(C=1.0, class_weight=None, d...</td>\n",
       "    </tr>\n",
       "    <tr>\n",
       "      <th>1</th>\n",
       "      <td>Logistic GS</td>\n",
       "      <td>0.802691</td>\n",
       "      <td>0.777778</td>\n",
       "      <td>0.666667</td>\n",
       "      <td>0.717949</td>\n",
       "      <td>[0, 0, 0, 1, 1, 0, 1, 1, 1, 1, 0, 1, 0, 1, 1, ...</td>\n",
       "      <td>LogisticRegression(C=0.045227288910538066, cla...</td>\n",
       "    </tr>\n",
       "    <tr>\n",
       "      <th>2</th>\n",
       "      <td>SVM default</td>\n",
       "      <td>0.721973</td>\n",
       "      <td>0.823529</td>\n",
       "      <td>0.333333</td>\n",
       "      <td>0.474576</td>\n",
       "      <td>[0, 0, 0, 1, 0, 0, 1, 1, 1, 0, 0, 0, 0, 0, 1, ...</td>\n",
       "      <td>SVC(C=1.0, break_ties=False, cache_size=200, c...</td>\n",
       "    </tr>\n",
       "    <tr>\n",
       "      <th>3</th>\n",
       "      <td>SVM GS</td>\n",
       "      <td>0.784753</td>\n",
       "      <td>0.714286</td>\n",
       "      <td>0.714286</td>\n",
       "      <td>0.714286</td>\n",
       "      <td>[0, 0, 0, 0, 1, 0, 1, 0, 0, 1, 0, 1, 0, 1, 1, ...</td>\n",
       "      <td>SVC(C=492.1132712266245, break_ties=False, cac...</td>\n",
       "    </tr>\n",
       "    <tr>\n",
       "      <th>4</th>\n",
       "      <td>Decision default</td>\n",
       "      <td>0.753363</td>\n",
       "      <td>0.670588</td>\n",
       "      <td>0.678571</td>\n",
       "      <td>0.674556</td>\n",
       "      <td>[0, 0, 0, 1, 1, 0, 1, 1, 1, 1, 0, 0, 0, 1, 1, ...</td>\n",
       "      <td>DecisionTreeClassifier(ccp_alpha=0.0, class_we...</td>\n",
       "    </tr>\n",
       "    <tr>\n",
       "      <th>5</th>\n",
       "      <td>Decision GS</td>\n",
       "      <td>0.820628</td>\n",
       "      <td>0.782051</td>\n",
       "      <td>0.726190</td>\n",
       "      <td>0.753086</td>\n",
       "      <td>[0, 0, 0, 1, 1, 0, 1, 1, 0, 1, 0, 1, 0, 1, 1, ...</td>\n",
       "      <td>DecisionTreeClassifier(ccp_alpha=0.0, class_we...</td>\n",
       "    </tr>\n",
       "    <tr>\n",
       "      <th>6</th>\n",
       "      <td>Neural default</td>\n",
       "      <td>0.798206</td>\n",
       "      <td>0.729412</td>\n",
       "      <td>0.738095</td>\n",
       "      <td>0.733728</td>\n",
       "      <td>[0, 0, 0, 1, 1, 0, 1, 1, 0, 1, 0, 1, 0, 1, 1, ...</td>\n",
       "      <td>MLPClassifier(activation='relu', alpha=0.0001,...</td>\n",
       "    </tr>\n",
       "  </tbody>\n",
       "</table>\n",
       "</div>"
      ],
      "text/plain": [
       "              label  accuracy    recall  precision        F1  \\\n",
       "0  Logistic default  0.793722  0.726190   0.726190  0.726190   \n",
       "1       Logistic GS  0.802691  0.777778   0.666667  0.717949   \n",
       "2       SVM default  0.721973  0.823529   0.333333  0.474576   \n",
       "3            SVM GS  0.784753  0.714286   0.714286  0.714286   \n",
       "4  Decision default  0.753363  0.670588   0.678571  0.674556   \n",
       "5       Decision GS  0.820628  0.782051   0.726190  0.753086   \n",
       "6    Neural default  0.798206  0.729412   0.738095  0.733728   \n",
       "\n",
       "                                             predict  \\\n",
       "0  [0, 0, 0, 1, 1, 0, 1, 1, 1, 1, 0, 1, 0, 1, 1, ...   \n",
       "1  [0, 0, 0, 1, 1, 0, 1, 1, 1, 1, 0, 1, 0, 1, 1, ...   \n",
       "2  [0, 0, 0, 1, 0, 0, 1, 1, 1, 0, 0, 0, 0, 0, 1, ...   \n",
       "3  [0, 0, 0, 0, 1, 0, 1, 0, 0, 1, 0, 1, 0, 1, 1, ...   \n",
       "4  [0, 0, 0, 1, 1, 0, 1, 1, 1, 1, 0, 0, 0, 1, 1, ...   \n",
       "5  [0, 0, 0, 1, 1, 0, 1, 1, 0, 1, 0, 1, 0, 1, 1, ...   \n",
       "6  [0, 0, 0, 1, 1, 0, 1, 1, 0, 1, 0, 1, 0, 1, 1, ...   \n",
       "\n",
       "                                          classifier  \n",
       "0  LogisticRegression(C=1.0, class_weight=None, d...  \n",
       "1  LogisticRegression(C=0.045227288910538066, cla...  \n",
       "2  SVC(C=1.0, break_ties=False, cache_size=200, c...  \n",
       "3  SVC(C=492.1132712266245, break_ties=False, cac...  \n",
       "4  DecisionTreeClassifier(ccp_alpha=0.0, class_we...  \n",
       "5  DecisionTreeClassifier(ccp_alpha=0.0, class_we...  \n",
       "6  MLPClassifier(activation='relu', alpha=0.0001,...  "
      ]
     },
     "execution_count": 41,
     "metadata": {},
     "output_type": "execute_result"
    }
   ],
   "source": [
    "update_score_dict('Neural default', neuralN_predict, neuralN)\n",
    "pd.DataFrame(metrics_dict.values())"
   ]
  },
  {
   "cell_type": "markdown",
   "metadata": {},
   "source": [
    "## Grid Search"
   ]
  },
  {
   "cell_type": "code",
   "execution_count": 42,
   "metadata": {},
   "outputs": [],
   "source": [
    "np.set_printoptions(suppress=True)"
   ]
  },
  {
   "cell_type": "code",
   "execution_count": 43,
   "metadata": {},
   "outputs": [
    {
     "data": {
      "text/plain": [
       "array([0.1       , 0.01      , 0.001     , 0.0001    , 0.00001   ,\n",
       "       0.000001  , 0.0000001 , 0.00000001, 0.        ])"
      ]
     },
     "execution_count": 43,
     "metadata": {},
     "output_type": "execute_result"
    }
   ],
   "source": [
    "alpha_NN = 10.0 ** -np.arange(1, 10)\n",
    "alpha_NN"
   ]
  },
  {
   "cell_type": "code",
   "execution_count": 44,
   "metadata": {},
   "outputs": [
    {
     "data": {
      "text/plain": [
       "[8, 9, 10, 11, 12, 13, 14, 30, 50, 70, 100]"
      ]
     },
     "execution_count": 44,
     "metadata": {},
     "output_type": "execute_result"
    }
   ],
   "source": [
    "hidden_layer_sizes_NN = list(np.arange(8, 15))\n",
    "hidden_layer_sizes_NN += [30, 50, 70, 100]\n",
    "hidden_layer_sizes_NN"
   ]
  },
  {
   "cell_type": "code",
   "execution_count": 45,
   "metadata": {},
   "outputs": [
    {
     "name": "stdout",
     "output_type": "stream",
     "text": [
      "Fitting 5 folds for each of 297 candidates, totalling 1485 fits\n"
     ]
    },
    {
     "name": "stderr",
     "output_type": "stream",
     "text": [
      "[Parallel(n_jobs=4)]: Using backend LokyBackend with 4 concurrent workers.\n",
      "[Parallel(n_jobs=4)]: Done  76 tasks      | elapsed:    5.2s\n",
      "[Parallel(n_jobs=4)]: Done 376 tasks      | elapsed:   23.5s\n",
      "[Parallel(n_jobs=4)]: Done 876 tasks      | elapsed:   55.5s\n",
      "[Parallel(n_jobs=4)]: Done 1478 out of 1485 | elapsed:  1.5min remaining:    0.3s\n",
      "[Parallel(n_jobs=4)]: Done 1485 out of 1485 | elapsed:  1.6min finished\n"
     ]
    }
   ],
   "source": [
    "neuralN_param_grid = {\n",
    "    'solver': ['lbfgs', 'adam', 'sgd'], \n",
    "    'alpha': alpha_NN, \n",
    "    'hidden_layer_sizes': hidden_layer_sizes_NN\n",
    "}\n",
    "\n",
    "neuralN_gridsearch = GridSearchCV(neuralN, param_grid=neuralN_param_grid, scoring=\"accuracy\", n_jobs=4, verbose = 1)\n",
    "\n",
    "neuralN_gridsearch.fit(x_train, y_train)\n",
    "\n",
    "neuralN_best = neuralN_gridsearch.best_estimator_"
   ]
  },
  {
   "cell_type": "code",
   "execution_count": 46,
   "metadata": {},
   "outputs": [
    {
     "data": {
      "text/plain": [
       "MLPClassifier(activation='relu', alpha=0.01, batch_size='auto', beta_1=0.9,\n",
       "              beta_2=0.999, early_stopping=False, epsilon=1e-08,\n",
       "              hidden_layer_sizes=70, learning_rate='constant',\n",
       "              learning_rate_init=0.001, max_fun=15000, max_iter=1500,\n",
       "              momentum=0.9, n_iter_no_change=10, nesterovs_momentum=True,\n",
       "              power_t=0.5, random_state=42, shuffle=True, solver='adam',\n",
       "              tol=0.0001, validation_fraction=0.1, verbose=False,\n",
       "              warm_start=False)"
      ]
     },
     "execution_count": 46,
     "metadata": {},
     "output_type": "execute_result"
    }
   ],
   "source": [
    "neuralN_best"
   ]
  },
  {
   "cell_type": "code",
   "execution_count": 47,
   "metadata": {},
   "outputs": [],
   "source": [
    "neuralN_predict_gs = neuralN_best.predict(x_test)"
   ]
  },
  {
   "cell_type": "code",
   "execution_count": 48,
   "metadata": {},
   "outputs": [],
   "source": [
    "update_score_dict('Neural GS', decisionT_predict_gs, neuralN_best)"
   ]
  },
  {
   "cell_type": "markdown",
   "metadata": {},
   "source": [
    "# Scores"
   ]
  },
  {
   "cell_type": "code",
   "execution_count": 49,
   "metadata": {},
   "outputs": [
    {
     "data": {
      "text/html": [
       "<div>\n",
       "<style scoped>\n",
       "    .dataframe tbody tr th:only-of-type {\n",
       "        vertical-align: middle;\n",
       "    }\n",
       "\n",
       "    .dataframe tbody tr th {\n",
       "        vertical-align: top;\n",
       "    }\n",
       "\n",
       "    .dataframe thead th {\n",
       "        text-align: right;\n",
       "    }\n",
       "</style>\n",
       "<table border=\"1\" class=\"dataframe\">\n",
       "  <thead>\n",
       "    <tr style=\"text-align: right;\">\n",
       "      <th></th>\n",
       "      <th>label</th>\n",
       "      <th>accuracy</th>\n",
       "      <th>recall</th>\n",
       "      <th>precision</th>\n",
       "      <th>F1</th>\n",
       "      <th>predict</th>\n",
       "      <th>classifier</th>\n",
       "    </tr>\n",
       "  </thead>\n",
       "  <tbody>\n",
       "    <tr>\n",
       "      <th>0</th>\n",
       "      <td>Logistic default</td>\n",
       "      <td>0.793722</td>\n",
       "      <td>0.726190</td>\n",
       "      <td>0.726190</td>\n",
       "      <td>0.726190</td>\n",
       "      <td>[0, 0, 0, 1, 1, 0, 1, 1, 1, 1, 0, 1, 0, 1, 1, ...</td>\n",
       "      <td>LogisticRegression(C=1.0, class_weight=None, d...</td>\n",
       "    </tr>\n",
       "    <tr>\n",
       "      <th>1</th>\n",
       "      <td>Logistic GS</td>\n",
       "      <td>0.802691</td>\n",
       "      <td>0.777778</td>\n",
       "      <td>0.666667</td>\n",
       "      <td>0.717949</td>\n",
       "      <td>[0, 0, 0, 1, 1, 0, 1, 1, 1, 1, 0, 1, 0, 1, 1, ...</td>\n",
       "      <td>LogisticRegression(C=0.045227288910538066, cla...</td>\n",
       "    </tr>\n",
       "    <tr>\n",
       "      <th>2</th>\n",
       "      <td>SVM default</td>\n",
       "      <td>0.721973</td>\n",
       "      <td>0.823529</td>\n",
       "      <td>0.333333</td>\n",
       "      <td>0.474576</td>\n",
       "      <td>[0, 0, 0, 1, 0, 0, 1, 1, 1, 0, 0, 0, 0, 0, 1, ...</td>\n",
       "      <td>SVC(C=1.0, break_ties=False, cache_size=200, c...</td>\n",
       "    </tr>\n",
       "    <tr>\n",
       "      <th>3</th>\n",
       "      <td>SVM GS</td>\n",
       "      <td>0.784753</td>\n",
       "      <td>0.714286</td>\n",
       "      <td>0.714286</td>\n",
       "      <td>0.714286</td>\n",
       "      <td>[0, 0, 0, 0, 1, 0, 1, 0, 0, 1, 0, 1, 0, 1, 1, ...</td>\n",
       "      <td>SVC(C=492.1132712266245, break_ties=False, cac...</td>\n",
       "    </tr>\n",
       "    <tr>\n",
       "      <th>4</th>\n",
       "      <td>Decision default</td>\n",
       "      <td>0.753363</td>\n",
       "      <td>0.670588</td>\n",
       "      <td>0.678571</td>\n",
       "      <td>0.674556</td>\n",
       "      <td>[0, 0, 0, 1, 1, 0, 1, 1, 1, 1, 0, 0, 0, 1, 1, ...</td>\n",
       "      <td>DecisionTreeClassifier(ccp_alpha=0.0, class_we...</td>\n",
       "    </tr>\n",
       "    <tr>\n",
       "      <th>5</th>\n",
       "      <td>Decision GS</td>\n",
       "      <td>0.820628</td>\n",
       "      <td>0.782051</td>\n",
       "      <td>0.726190</td>\n",
       "      <td>0.753086</td>\n",
       "      <td>[0, 0, 0, 1, 1, 0, 1, 1, 0, 1, 0, 1, 0, 1, 1, ...</td>\n",
       "      <td>DecisionTreeClassifier(ccp_alpha=0.0, class_we...</td>\n",
       "    </tr>\n",
       "    <tr>\n",
       "      <th>6</th>\n",
       "      <td>Neural default</td>\n",
       "      <td>0.798206</td>\n",
       "      <td>0.729412</td>\n",
       "      <td>0.738095</td>\n",
       "      <td>0.733728</td>\n",
       "      <td>[0, 0, 0, 1, 1, 0, 1, 1, 0, 1, 0, 1, 0, 1, 1, ...</td>\n",
       "      <td>MLPClassifier(activation='relu', alpha=0.0001,...</td>\n",
       "    </tr>\n",
       "    <tr>\n",
       "      <th>7</th>\n",
       "      <td>Neural GS</td>\n",
       "      <td>0.820628</td>\n",
       "      <td>0.782051</td>\n",
       "      <td>0.726190</td>\n",
       "      <td>0.753086</td>\n",
       "      <td>[0, 0, 0, 1, 1, 0, 1, 1, 0, 1, 0, 1, 0, 1, 1, ...</td>\n",
       "      <td>MLPClassifier(activation='relu', alpha=0.01, b...</td>\n",
       "    </tr>\n",
       "  </tbody>\n",
       "</table>\n",
       "</div>"
      ],
      "text/plain": [
       "              label  accuracy    recall  precision        F1  \\\n",
       "0  Logistic default  0.793722  0.726190   0.726190  0.726190   \n",
       "1       Logistic GS  0.802691  0.777778   0.666667  0.717949   \n",
       "2       SVM default  0.721973  0.823529   0.333333  0.474576   \n",
       "3            SVM GS  0.784753  0.714286   0.714286  0.714286   \n",
       "4  Decision default  0.753363  0.670588   0.678571  0.674556   \n",
       "5       Decision GS  0.820628  0.782051   0.726190  0.753086   \n",
       "6    Neural default  0.798206  0.729412   0.738095  0.733728   \n",
       "7         Neural GS  0.820628  0.782051   0.726190  0.753086   \n",
       "\n",
       "                                             predict  \\\n",
       "0  [0, 0, 0, 1, 1, 0, 1, 1, 1, 1, 0, 1, 0, 1, 1, ...   \n",
       "1  [0, 0, 0, 1, 1, 0, 1, 1, 1, 1, 0, 1, 0, 1, 1, ...   \n",
       "2  [0, 0, 0, 1, 0, 0, 1, 1, 1, 0, 0, 0, 0, 0, 1, ...   \n",
       "3  [0, 0, 0, 0, 1, 0, 1, 0, 0, 1, 0, 1, 0, 1, 1, ...   \n",
       "4  [0, 0, 0, 1, 1, 0, 1, 1, 1, 1, 0, 0, 0, 1, 1, ...   \n",
       "5  [0, 0, 0, 1, 1, 0, 1, 1, 0, 1, 0, 1, 0, 1, 1, ...   \n",
       "6  [0, 0, 0, 1, 1, 0, 1, 1, 0, 1, 0, 1, 0, 1, 1, ...   \n",
       "7  [0, 0, 0, 1, 1, 0, 1, 1, 0, 1, 0, 1, 0, 1, 1, ...   \n",
       "\n",
       "                                          classifier  \n",
       "0  LogisticRegression(C=1.0, class_weight=None, d...  \n",
       "1  LogisticRegression(C=0.045227288910538066, cla...  \n",
       "2  SVC(C=1.0, break_ties=False, cache_size=200, c...  \n",
       "3  SVC(C=492.1132712266245, break_ties=False, cac...  \n",
       "4  DecisionTreeClassifier(ccp_alpha=0.0, class_we...  \n",
       "5  DecisionTreeClassifier(ccp_alpha=0.0, class_we...  \n",
       "6  MLPClassifier(activation='relu', alpha=0.0001,...  \n",
       "7  MLPClassifier(activation='relu', alpha=0.01, b...  "
      ]
     },
     "execution_count": 49,
     "metadata": {},
     "output_type": "execute_result"
    }
   ],
   "source": [
    "pd.DataFrame(metrics_dict.values())"
   ]
  },
  {
   "cell_type": "markdown",
   "metadata": {},
   "source": [
    "# Salvando"
   ]
  },
  {
   "cell_type": "code",
   "execution_count": 50,
   "metadata": {},
   "outputs": [],
   "source": [
    "keys = ['Logistic GS', 'SVM GS', 'Decision GS', 'Neural GS']\n",
    "selected_methods_dict = {x:metrics_dict[x] for x in keys}"
   ]
  },
  {
   "cell_type": "code",
   "execution_count": 51,
   "metadata": {},
   "outputs": [],
   "source": [
    "# salvando \n",
    "import pickle\n",
    "filename = 'gridsearch_scores'\n",
    "outfile = open(filename, 'wb')\n",
    "pickle.dump(selected_methods_dict, outfile)\n",
    "outfile.close()"
   ]
  },
  {
   "cell_type": "code",
   "execution_count": null,
   "metadata": {},
   "outputs": [],
   "source": []
  }
 ],
 "metadata": {
  "kernelspec": {
   "display_name": "Python 3",
   "language": "python",
   "name": "python3"
  },
  "language_info": {
   "codemirror_mode": {
    "name": "ipython",
    "version": 3
   },
   "file_extension": ".py",
   "mimetype": "text/x-python",
   "name": "python",
   "nbconvert_exporter": "python",
   "pygments_lexer": "ipython3",
   "version": "3.7.4"
  }
 },
 "nbformat": 4,
 "nbformat_minor": 2
}

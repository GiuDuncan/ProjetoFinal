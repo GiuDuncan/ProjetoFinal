{
 "cells": [
  {
   "cell_type": "code",
   "execution_count": 1,
   "metadata": {},
   "outputs": [],
   "source": [
    "import numpy as np\n",
    "import pandas as pd\n",
    "import matplotlib.pyplot as plt"
   ]
  },
  {
   "cell_type": "code",
   "execution_count": 2,
   "metadata": {},
   "outputs": [],
   "source": [
    "from sklearn import metrics\n",
    "from sklearn.metrics import plot_confusion_matrix"
   ]
  },
  {
   "cell_type": "code",
   "execution_count": 3,
   "metadata": {},
   "outputs": [],
   "source": [
    "from sklearn.model_selection import GridSearchCV"
   ]
  },
  {
   "cell_type": "markdown",
   "metadata": {},
   "source": [
    "# Base"
   ]
  },
  {
   "cell_type": "code",
   "execution_count": 4,
   "metadata": {},
   "outputs": [],
   "source": [
    "# Importando a base\n",
    "train = pd.read_csv('train_treated.csv')"
   ]
  },
  {
   "cell_type": "markdown",
   "metadata": {},
   "source": [
    "## Dividindo entre treino e teste"
   ]
  },
  {
   "cell_type": "code",
   "execution_count": 5,
   "metadata": {},
   "outputs": [],
   "source": [
    "from sklearn.model_selection import train_test_split\n",
    "x_train, x_test, y_train, y_test = train_test_split(train.drop(columns=['Survived']), train['Survived'], test_size=0.25, random_state=0)"
   ]
  },
  {
   "cell_type": "markdown",
   "metadata": {},
   "source": [
    "# Criando dicionario de scores"
   ]
  },
  {
   "cell_type": "code",
   "execution_count": 6,
   "metadata": {},
   "outputs": [],
   "source": [
    "metrics_dict = {'label': [], 'accuracy': [], 'recall': [], 'precision': [], 'F1': []}"
   ]
  },
  {
   "cell_type": "markdown",
   "metadata": {},
   "source": [
    "# LogisticRegression"
   ]
  },
  {
   "cell_type": "code",
   "execution_count": 7,
   "metadata": {},
   "outputs": [],
   "source": [
    "# Importando\n",
    "from sklearn.linear_model import LogisticRegression\n",
    "# Instanciando\n",
    "logisticR = LogisticRegression(max_iter=700)"
   ]
  },
  {
   "cell_type": "code",
   "execution_count": 8,
   "metadata": {},
   "outputs": [
    {
     "data": {
      "text/plain": [
       "{'C': 1.0,\n",
       " 'class_weight': None,\n",
       " 'dual': False,\n",
       " 'fit_intercept': True,\n",
       " 'intercept_scaling': 1,\n",
       " 'l1_ratio': None,\n",
       " 'max_iter': 700,\n",
       " 'multi_class': 'auto',\n",
       " 'n_jobs': None,\n",
       " 'penalty': 'l2',\n",
       " 'random_state': None,\n",
       " 'solver': 'lbfgs',\n",
       " 'tol': 0.0001,\n",
       " 'verbose': 0,\n",
       " 'warm_start': False}"
      ]
     },
     "execution_count": 8,
     "metadata": {},
     "output_type": "execute_result"
    }
   ],
   "source": [
    "logisticR.get_params()"
   ]
  },
  {
   "cell_type": "code",
   "execution_count": null,
   "metadata": {},
   "outputs": [],
   "source": []
  },
  {
   "cell_type": "code",
   "execution_count": 9,
   "metadata": {},
   "outputs": [],
   "source": [
    "# Treinando e prevendo\n",
    "logisticR.fit(x_train, y_train)\n",
    "logisticR_predict = logisticR.predict(x_test)"
   ]
  },
  {
   "cell_type": "code",
   "execution_count": 10,
   "metadata": {},
   "outputs": [
    {
     "data": {
      "text/plain": [
       "array([[116,  23],\n",
       "       [ 23,  61]], dtype=int64)"
      ]
     },
     "execution_count": 10,
     "metadata": {},
     "output_type": "execute_result"
    }
   ],
   "source": [
    "metrics.confusion_matrix(logisticR_predict, y_test)"
   ]
  },
  {
   "cell_type": "code",
   "execution_count": 11,
   "metadata": {},
   "outputs": [
    {
     "data": {
      "image/png": "[encoded data removed]",
      "text/plain": [
       "<Figure size 432x288 with 2 Axes>"
      ]
     },
     "metadata": {
      "needs_background": "light"
     },
     "output_type": "display_data"
    }
   ],
   "source": [
    "plot_confusion_matrix(logisticR, x_test, y_test, cmap=plt.cm.Blues)\n",
    "plt.show()"
   ]
  },
  {
   "cell_type": "code",
   "execution_count": 12,
   "metadata": {},
   "outputs": [],
   "source": [
    "metrics_dict['label'].append('Logistic')\n",
    "metrics_dict['accuracy'].append(metrics.accuracy_score(logisticR_predict, y_test))\n",
    "metrics_dict['recall'].append(metrics.recall_score(logisticR_predict, y_test))\n",
    "metrics_dict['precision'].append(metrics.precision_score(logisticR_predict, y_test))\n",
    "metrics_dict['F1'].append(metrics.f1_score(logisticR_predict, y_test))"
   ]
  },
  {
   "cell_type": "markdown",
   "metadata": {},
   "source": [
    "# Máquina de Vetor Suporte"
   ]
  },
  {
   "cell_type": "code",
   "execution_count": 13,
   "metadata": {},
   "outputs": [],
   "source": [
    "# Importando\n",
    "from sklearn.svm import SVC\n",
    "# Instanciando\n",
    "supportV = SVC()"
   ]
  },
  {
   "cell_type": "code",
   "execution_count": 14,
   "metadata": {},
   "outputs": [
    {
     "data": {
      "text/plain": [
       "{'C': 1.0,\n",
       " 'break_ties': False,\n",
       " 'cache_size': 200,\n",
       " 'class_weight': None,\n",
       " 'coef0': 0.0,\n",
       " 'decision_function_shape': 'ovr',\n",
       " 'degree': 3,\n",
       " 'gamma': 'scale',\n",
       " 'kernel': 'rbf',\n",
       " 'max_iter': -1,\n",
       " 'probability': False,\n",
       " 'random_state': None,\n",
       " 'shrinking': True,\n",
       " 'tol': 0.001,\n",
       " 'verbose': False}"
      ]
     },
     "execution_count": 14,
     "metadata": {},
     "output_type": "execute_result"
    }
   ],
   "source": [
    "supportV.get_params()"
   ]
  },
  {
   "cell_type": "code",
   "execution_count": 15,
   "metadata": {},
   "outputs": [
    {
     "name": "stdout",
     "output_type": "stream",
     "text": [
      "Fitting 5 folds for each of 14 candidates, totalling 70 fits\n"
     ]
    },
    {
     "name": "stderr",
     "output_type": "stream",
     "text": [
      "[Parallel(n_jobs=4)]: Using backend LokyBackend with 4 concurrent workers.\n",
      "[Parallel(n_jobs=4)]: Done  62 tasks      | elapsed:    1.1s\n",
      "[Parallel(n_jobs=4)]: Done  70 out of  70 | elapsed:    1.2s finished\n"
     ]
    },
    {
     "data": {
      "text/plain": [
       "0.6796319156099203"
      ]
     },
     "execution_count": 15,
     "metadata": {},
     "output_type": "execute_result"
    }
   ],
   "source": [
    "supportV_param_grid = {'kernel': ['rbf'],#['linear', 'poly', 'rbf', 'sigmoid', 'precomputed'], \n",
    "                  'gamma': ['scale', 'auto'],\n",
    "                  'C': [1, 10, 50, 100,200,300, 1000]}\n",
    "\n",
    "supportV_gridsearch = GridSearchCV(supportV, param_grid = supportV_param_grid, scoring=\"accuracy\", n_jobs=4, verbose = 1)\n",
    "\n",
    "supportV_gridsearch.fit(x_train, y_train)\n",
    "\n",
    "supportV_best = supportV_gridsearch.best_estimator_\n",
    "\n",
    "# Best score\n",
    "supportV_gridsearch.best_score_"
   ]
  },
  {
   "cell_type": "code",
   "execution_count": 16,
   "metadata": {},
   "outputs": [
    {
     "data": {
      "text/plain": [
       "SVC(C=1000, break_ties=False, cache_size=200, class_weight=None, coef0=0.0,\n",
       "    decision_function_shape='ovr', degree=3, gamma='scale', kernel='rbf',\n",
       "    max_iter=-1, probability=False, random_state=None, shrinking=True,\n",
       "    tol=0.001, verbose=False)"
      ]
     },
     "execution_count": 16,
     "metadata": {},
     "output_type": "execute_result"
    }
   ],
   "source": [
    "supportV_gridsearch.best_estimator_"
   ]
  },
  {
   "cell_type": "code",
   "execution_count": 17,
   "metadata": {},
   "outputs": [],
   "source": [
    "supportV_predict_gs = supportV_gridsearch.predict(x_test)"
   ]
  },
  {
   "cell_type": "code",
   "execution_count": 18,
   "metadata": {},
   "outputs": [
    {
     "data": {
      "text/plain": [
       "{'label': ['Logistic', 'SVM gridsearch'],\n",
       " 'accuracy': [0.7937219730941704, 0.7130044843049327],\n",
       " 'recall': [0.7261904761904762, 0.8125],\n",
       " 'precision': [0.7261904761904762, 0.30952380952380953],\n",
       " 'F1': [0.7261904761904762, 0.4482758620689655]}"
      ]
     },
     "execution_count": 18,
     "metadata": {},
     "output_type": "execute_result"
    }
   ],
   "source": [
    "metrics_dict['label'].append('SVM gridsearch')\n",
    "metrics_dict['accuracy'].append(metrics.accuracy_score(supportV_predict_gs, y_test))\n",
    "metrics_dict['recall'].append(metrics.recall_score(supportV_predict_gs, y_test))\n",
    "metrics_dict['precision'].append(metrics.precision_score(supportV_predict_gs, y_test))\n",
    "metrics_dict['F1'].append(metrics.f1_score(supportV_predict_gs, y_test))\n",
    "metrics_dict"
   ]
  },
  {
   "cell_type": "code",
   "execution_count": 19,
   "metadata": {},
   "outputs": [],
   "source": [
    "# Treinando e prevendo com default\n",
    "supportV.fit(x_train, y_train)\n",
    "supportV_predict = supportV.predict(x_test)"
   ]
  },
  {
   "cell_type": "code",
   "execution_count": 20,
   "metadata": {},
   "outputs": [
    {
     "data": {
      "text/plain": [
       "{'label': ['Logistic', 'SVM gridsearch', 'SVM default'],\n",
       " 'accuracy': [0.7937219730941704, 0.7130044843049327, 0.6547085201793722],\n",
       " 'recall': [0.7261904761904762, 0.8125, 1.0],\n",
       " 'precision': [0.7261904761904762, 0.30952380952380953, 0.08333333333333333],\n",
       " 'F1': [0.7261904761904762, 0.4482758620689655, 0.15384615384615385]}"
      ]
     },
     "execution_count": 20,
     "metadata": {},
     "output_type": "execute_result"
    }
   ],
   "source": [
    "metrics_dict['label'].append('SVM default')\n",
    "metrics_dict['accuracy'].append(metrics.accuracy_score(supportV_predict, y_test))\n",
    "metrics_dict['recall'].append(metrics.recall_score(supportV_predict, y_test))\n",
    "metrics_dict['precision'].append(metrics.precision_score(supportV_predict, y_test))\n",
    "metrics_dict['F1'].append(metrics.f1_score(supportV_predict, y_test))\n",
    "metrics_dict"
   ]
  },
  {
   "cell_type": "markdown",
   "metadata": {},
   "source": [
    "# Decision tree"
   ]
  },
  {
   "cell_type": "code",
   "execution_count": 21,
   "metadata": {},
   "outputs": [],
   "source": [
    "# Importando\n",
    "from sklearn.tree import DecisionTreeClassifier\n",
    "# Instanciando\n",
    "decisionT = DecisionTreeClassifier(random_state=42)"
   ]
  },
  {
   "cell_type": "code",
   "execution_count": 22,
   "metadata": {},
   "outputs": [],
   "source": [
    "# Treinando e prevendo\n",
    "decisionT.fit(x_train, y_train)\n",
    "decisionT_predict = decisionT.predict(x_test)"
   ]
  },
  {
   "cell_type": "code",
   "execution_count": 23,
   "metadata": {},
   "outputs": [
    {
     "data": {
      "text/plain": [
       "{'label': ['Logistic', 'SVM gridsearch', 'SVM default', 'Decision'],\n",
       " 'accuracy': [0.7937219730941704,\n",
       "  0.7130044843049327,\n",
       "  0.6547085201793722,\n",
       "  0.757847533632287],\n",
       " 'recall': [0.7261904761904762, 0.8125, 1.0, 0.6785714285714286],\n",
       " 'precision': [0.7261904761904762,\n",
       "  0.30952380952380953,\n",
       "  0.08333333333333333,\n",
       "  0.6785714285714286],\n",
       " 'F1': [0.7261904761904762,\n",
       "  0.4482758620689655,\n",
       "  0.15384615384615385,\n",
       "  0.6785714285714286]}"
      ]
     },
     "execution_count": 23,
     "metadata": {},
     "output_type": "execute_result"
    }
   ],
   "source": [
    "metrics_dict['label'].append('Decision')\n",
    "metrics_dict['accuracy'].append(metrics.accuracy_score(decisionT_predict, y_test))\n",
    "metrics_dict['recall'].append(metrics.recall_score(decisionT_predict, y_test))\n",
    "metrics_dict['precision'].append(metrics.precision_score(decisionT_predict, y_test))\n",
    "metrics_dict['F1'].append(metrics.f1_score(decisionT_predict, y_test))\n",
    "metrics_dict"
   ]
  },
  {
   "cell_type": "markdown",
   "metadata": {},
   "source": [
    "# Redes Neurais"
   ]
  },
  {
   "cell_type": "code",
   "execution_count": 24,
   "metadata": {},
   "outputs": [],
   "source": [
    "# Importando\n",
    "from sklearn.neural_network import MLPClassifier\n",
    "# Instanciando\n",
    "neuralN = MLPClassifier(random_state=42)"
   ]
  },
  {
   "cell_type": "code",
   "execution_count": 25,
   "metadata": {},
   "outputs": [],
   "source": [
    "# Treinando e prevendo\n",
    "neuralN.fit(x_train, y_train)\n",
    "neuralN_predict = neuralN.predict(x_test)"
   ]
  },
  {
   "cell_type": "code",
   "execution_count": 26,
   "metadata": {},
   "outputs": [
    {
     "data": {
      "text/plain": [
       "{'label': ['Logistic', 'SVM gridsearch', 'SVM default', 'Decision', 'Neural'],\n",
       " 'accuracy': [0.7937219730941704,\n",
       "  0.7130044843049327,\n",
       "  0.6547085201793722,\n",
       "  0.757847533632287,\n",
       "  0.7982062780269058],\n",
       " 'recall': [0.7261904761904762,\n",
       "  0.8125,\n",
       "  1.0,\n",
       "  0.6785714285714286,\n",
       "  0.6893203883495146],\n",
       " 'precision': [0.7261904761904762,\n",
       "  0.30952380952380953,\n",
       "  0.08333333333333333,\n",
       "  0.6785714285714286,\n",
       "  0.8452380952380952],\n",
       " 'F1': [0.7261904761904762,\n",
       "  0.4482758620689655,\n",
       "  0.15384615384615385,\n",
       "  0.6785714285714286,\n",
       "  0.7593582887700535]}"
      ]
     },
     "execution_count": 26,
     "metadata": {},
     "output_type": "execute_result"
    }
   ],
   "source": [
    "metrics_dict['label'].append('Neural')\n",
    "metrics_dict['accuracy'].append(metrics.accuracy_score(neuralN_predict, y_test))\n",
    "metrics_dict['recall'].append(metrics.recall_score(neuralN_predict, y_test))\n",
    "metrics_dict['precision'].append(metrics.precision_score(neuralN_predict, y_test))\n",
    "metrics_dict['F1'].append(metrics.f1_score(neuralN_predict, y_test))\n",
    "metrics_dict"
   ]
  },
  {
   "cell_type": "markdown",
   "metadata": {},
   "source": [
    "# Scores"
   ]
  },
  {
   "cell_type": "code",
   "execution_count": 27,
   "metadata": {},
   "outputs": [
    {
     "data": {
      "text/html": [
       "<div>\n",
       "<style scoped>\n",
       "    .dataframe tbody tr th:only-of-type {\n",
       "        vertical-align: middle;\n",
       "    }\n",
       "\n",
       "    .dataframe tbody tr th {\n",
       "        vertical-align: top;\n",
       "    }\n",
       "\n",
       "    .dataframe thead th {\n",
       "        text-align: right;\n",
       "    }\n",
       "</style>\n",
       "<table border=\"1\" class=\"dataframe\">\n",
       "  <thead>\n",
       "    <tr style=\"text-align: right;\">\n",
       "      <th></th>\n",
       "      <th>label</th>\n",
       "      <th>accuracy</th>\n",
       "      <th>recall</th>\n",
       "      <th>precision</th>\n",
       "      <th>F1</th>\n",
       "    </tr>\n",
       "  </thead>\n",
       "  <tbody>\n",
       "    <tr>\n",
       "      <th>0</th>\n",
       "      <td>Logistic</td>\n",
       "      <td>0.793722</td>\n",
       "      <td>0.726190</td>\n",
       "      <td>0.726190</td>\n",
       "      <td>0.726190</td>\n",
       "    </tr>\n",
       "    <tr>\n",
       "      <th>1</th>\n",
       "      <td>SVM gridsearch</td>\n",
       "      <td>0.713004</td>\n",
       "      <td>0.812500</td>\n",
       "      <td>0.309524</td>\n",
       "      <td>0.448276</td>\n",
       "    </tr>\n",
       "    <tr>\n",
       "      <th>2</th>\n",
       "      <td>SVM default</td>\n",
       "      <td>0.654709</td>\n",
       "      <td>1.000000</td>\n",
       "      <td>0.083333</td>\n",
       "      <td>0.153846</td>\n",
       "    </tr>\n",
       "    <tr>\n",
       "      <th>3</th>\n",
       "      <td>Decision</td>\n",
       "      <td>0.757848</td>\n",
       "      <td>0.678571</td>\n",
       "      <td>0.678571</td>\n",
       "      <td>0.678571</td>\n",
       "    </tr>\n",
       "    <tr>\n",
       "      <th>4</th>\n",
       "      <td>Neural</td>\n",
       "      <td>0.798206</td>\n",
       "      <td>0.689320</td>\n",
       "      <td>0.845238</td>\n",
       "      <td>0.759358</td>\n",
       "    </tr>\n",
       "  </tbody>\n",
       "</table>\n",
       "</div>"
      ],
      "text/plain": [
       "            label  accuracy    recall  precision        F1\n",
       "0        Logistic  0.793722  0.726190   0.726190  0.726190\n",
       "1  SVM gridsearch  0.713004  0.812500   0.309524  0.448276\n",
       "2     SVM default  0.654709  1.000000   0.083333  0.153846\n",
       "3        Decision  0.757848  0.678571   0.678571  0.678571\n",
       "4          Neural  0.798206  0.689320   0.845238  0.759358"
      ]
     },
     "execution_count": 27,
     "metadata": {},
     "output_type": "execute_result"
    }
   ],
   "source": [
    "pd.DataFrame(metrics_dict)"
   ]
  },
  {
   "cell_type": "code",
   "execution_count": null,
   "metadata": {},
   "outputs": [],
   "source": []
  }
 ],
 "metadata": {
  "kernelspec": {
   "display_name": "Python 3",
   "language": "python",
   "name": "python3"
  },
  "language_info": {
   "codemirror_mode": {
    "name": "ipython",
    "version": 3
   },
   "file_extension": ".py",
   "mimetype": "text/x-python",
   "name": "python",
   "nbconvert_exporter": "python",
   "pygments_lexer": "ipython3",
   "version": "3.7.4"
  }
 },
 "nbformat": 4,
 "nbformat_minor": 2
}
